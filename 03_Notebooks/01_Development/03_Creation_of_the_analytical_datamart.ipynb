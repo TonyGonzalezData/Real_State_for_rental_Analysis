{
 "cells": [
  {
   "cell_type": "markdown",
   "id": "8e9c486f",
   "metadata": {},
   "source": [
    "# CREATION OF THE ANALYTIC DATAMART"
   ]
  },
  {
   "cell_type": "markdown",
   "id": "39be38f8",
   "metadata": {},
   "source": [
    "## SET UP"
   ]
  },
  {
   "cell_type": "code",
   "execution_count": 238,
   "id": "9d8455e0",
   "metadata": {},
   "outputs": [],
   "source": [
    "import numpy as np\n",
    "import pandas as pd\n",
    "\n",
    "import matplotlib.pyplot as plt\n",
    "\n",
    "import seaborn as sns\n",
    "\n",
    "import warnings\n",
    "warnings.filterwarnings('ignore')\n",
    "\n",
    "%config IPCompleter.greedy=True"
   ]
  },
  {
   "cell_type": "markdown",
   "id": "54717b2c",
   "metadata": {},
   "source": [
    "## DATA IMPORT"
   ]
  },
  {
   "cell_type": "code",
   "execution_count": 239,
   "id": "dc289afe-3939-44ae-8079-2d969420aef3",
   "metadata": {},
   "outputs": [],
   "source": [
    "data_file_name_1 = 'Rental and sale prices in Coruña.pickle'\n",
    "data_file_name_2 = 'Properties for sale in Coruña.pickle'"
   ]
  },
  {
   "cell_type": "markdown",
   "id": "fff1e75d-bb63-44aa-b798-8b655b7acfa4",
   "metadata": {},
   "source": [
    "Data loading."
   ]
  },
  {
   "cell_type": "code",
   "execution_count": 240,
   "id": "f037e934-3ef0-4c77-ab14-676b2fa6e0d1",
   "metadata": {},
   "outputs": [],
   "source": [
    "path_1= '../../02_Data/02_Work/' + data_file_name_1\n",
    "path_2 = '../../02_Data/02_Work/' + data_file_name_2"
   ]
  },
  {
   "cell_type": "code",
   "execution_count": 241,
   "id": "77ca0194-1712-41a7-a840-2f7f1f58ebd9",
   "metadata": {
    "scrolled": true
   },
   "outputs": [
    {
     "data": {
      "text/html": [
       "<div>\n",
       "<style scoped>\n",
       "    .dataframe tbody tr th:only-of-type {\n",
       "        vertical-align: middle;\n",
       "    }\n",
       "\n",
       "    .dataframe tbody tr th {\n",
       "        vertical-align: top;\n",
       "    }\n",
       "\n",
       "    .dataframe thead th {\n",
       "        text-align: right;\n",
       "    }\n",
       "</style>\n",
       "<table border=\"1\" class=\"dataframe\">\n",
       "  <thead>\n",
       "    <tr style=\"text-align: right;\">\n",
       "      <th></th>\n",
       "      <th>precio_venta_m2</th>\n",
       "      <th>precio_alquiler_m2</th>\n",
       "    </tr>\n",
       "    <tr>\n",
       "      <th>distrito</th>\n",
       "      <th></th>\n",
       "      <th></th>\n",
       "    </tr>\n",
       "  </thead>\n",
       "  <tbody>\n",
       "    <tr>\n",
       "      <th>Centro - Juan Flórez - Plaza Pontevedra</th>\n",
       "      <td>3.590 €/m²</td>\n",
       "      <td>1.254 €</td>\n",
       "    </tr>\n",
       "    <tr>\n",
       "      <th>Los Castros - Castrillón - Eiris</th>\n",
       "      <td>2.246 €/m²</td>\n",
       "      <td>11 €/m²</td>\n",
       "    </tr>\n",
       "    <tr>\n",
       "      <th>Monte Alto - Zalaeta - Atocha</th>\n",
       "      <td>3.422 €/m²</td>\n",
       "      <td>12 €/m²</td>\n",
       "    </tr>\n",
       "    <tr>\n",
       "      <th>Agra del Orzán - Ventorrillo - Vioño</th>\n",
       "      <td>2.218 €/m²</td>\n",
       "      <td>10 €/m²</td>\n",
       "    </tr>\n",
       "    <tr>\n",
       "      <th>Someso - Matogrande</th>\n",
       "      <td>2.457 €/m²</td>\n",
       "      <td>11 €/m²</td>\n",
       "    </tr>\n",
       "    <tr>\n",
       "      <th>Cuatro Caminos - Plaza de la Cubela</th>\n",
       "      <td>2.535 €/m²</td>\n",
       "      <td>13 €/m²</td>\n",
       "    </tr>\n",
       "    <tr>\n",
       "      <th>Riazor - Los Rosales</th>\n",
       "      <td>3.242 €/m²</td>\n",
       "      <td>10 €/m²</td>\n",
       "    </tr>\n",
       "    <tr>\n",
       "      <th>Os Mallos</th>\n",
       "      <td>2.304 €/m²</td>\n",
       "      <td>12 €/m²</td>\n",
       "    </tr>\n",
       "    <tr>\n",
       "      <th>Ciudad Vieja</th>\n",
       "      <td>4.521 €/m²</td>\n",
       "      <td>14 €/m²</td>\n",
       "    </tr>\n",
       "    <tr>\n",
       "      <th>Sagrada Familia</th>\n",
       "      <td>2.207 €/m²</td>\n",
       "      <td>12 €/m²</td>\n",
       "    </tr>\n",
       "    <tr>\n",
       "      <th>Elviña - A Zapateira</th>\n",
       "      <td>2.917 €/m²</td>\n",
       "      <td>12 €/m²</td>\n",
       "    </tr>\n",
       "    <tr>\n",
       "      <th>Vioño</th>\n",
       "      <td>2.917 €/m²</td>\n",
       "      <td>12 €/m²</td>\n",
       "    </tr>\n",
       "    <tr>\n",
       "      <th>Mesoiro</th>\n",
       "      <td>2.917 €/m²</td>\n",
       "      <td>12 €/m²</td>\n",
       "    </tr>\n",
       "  </tbody>\n",
       "</table>\n",
       "</div>"
      ],
      "text/plain": [
       "                                        precio_venta_m2 precio_alquiler_m2\n",
       "distrito                                                                  \n",
       "Centro - Juan Flórez - Plaza Pontevedra      3.590 €/m²            1.254 €\n",
       "Los Castros - Castrillón - Eiris             2.246 €/m²            11 €/m²\n",
       "Monte Alto - Zalaeta - Atocha                3.422 €/m²            12 €/m²\n",
       "Agra del Orzán - Ventorrillo - Vioño         2.218 €/m²            10 €/m²\n",
       "Someso - Matogrande                          2.457 €/m²            11 €/m²\n",
       "Cuatro Caminos - Plaza de la Cubela          2.535 €/m²            13 €/m²\n",
       "Riazor - Los Rosales                         3.242 €/m²            10 €/m²\n",
       "Os Mallos                                    2.304 €/m²            12 €/m²\n",
       "Ciudad Vieja                                 4.521 €/m²            14 €/m²\n",
       "Sagrada Familia                              2.207 €/m²            12 €/m²\n",
       "Elviña - A Zapateira                         2.917 €/m²            12 €/m²\n",
       "Vioño                                        2.917 €/m²            12 €/m²\n",
       "Mesoiro                                      2.917 €/m²            12 €/m²"
      ]
     },
     "execution_count": 241,
     "metadata": {},
     "output_type": "execute_result"
    }
   ],
   "source": [
    "df_rental_sale = pd.read_pickle(path_1)\n",
    "df_rental_sale"
   ]
  },
  {
   "cell_type": "code",
   "execution_count": 242,
   "id": "b359e384-ad5c-4065-89d4-9a2cb8aa4c79",
   "metadata": {},
   "outputs": [
    {
     "data": {
      "text/html": [
       "<div>\n",
       "<style scoped>\n",
       "    .dataframe tbody tr th:only-of-type {\n",
       "        vertical-align: middle;\n",
       "    }\n",
       "\n",
       "    .dataframe tbody tr th {\n",
       "        vertical-align: top;\n",
       "    }\n",
       "\n",
       "    .dataframe thead th {\n",
       "        text-align: right;\n",
       "    }\n",
       "</style>\n",
       "<table border=\"1\" class=\"dataframe\">\n",
       "  <thead>\n",
       "    <tr style=\"text-align: right;\">\n",
       "      <th></th>\n",
       "      <th>itemlink</th>\n",
       "      <th>Precio</th>\n",
       "      <th>itemparking</th>\n",
       "      <th>itemdetail</th>\n",
       "      <th>itemdetail2</th>\n",
       "    </tr>\n",
       "    <tr>\n",
       "      <th>itemlink_URL</th>\n",
       "      <th></th>\n",
       "      <th></th>\n",
       "      <th></th>\n",
       "      <th></th>\n",
       "      <th></th>\n",
       "    </tr>\n",
       "  </thead>\n",
       "  <tbody>\n",
       "    <tr>\n",
       "      <th>https://www.idealista.com/inmueble/106370978/</th>\n",
       "      <td>\\nPiso en avenida Hércules, Monte Alto - Zalae...</td>\n",
       "      <td>285.000€</td>\n",
       "      <td>NaN</td>\n",
       "      <td>2 hab.</td>\n",
       "      <td>100 m²</td>\n",
       "    </tr>\n",
       "    <tr>\n",
       "      <th>https://www.idealista.com/inmueble/97221042/</th>\n",
       "      <td>\\nDúplex en calle José Pascual López-Cortón, S...</td>\n",
       "      <td>480.000€</td>\n",
       "      <td>Garaje incluido</td>\n",
       "      <td>4 hab.</td>\n",
       "      <td>200 m²</td>\n",
       "    </tr>\n",
       "    <tr>\n",
       "      <th>https://www.idealista.com/inmueble/105277913/</th>\n",
       "      <td>\\nPiso en calle Ramón de la Sagra, Ensanche, a...</td>\n",
       "      <td>460.000€</td>\n",
       "      <td>Garaje opc. 30.000 €</td>\n",
       "      <td>3 hab.</td>\n",
       "      <td>124 m²</td>\n",
       "    </tr>\n",
       "    <tr>\n",
       "      <th>https://www.idealista.com/inmueble/105967967/</th>\n",
       "      <td>\\nPiso en calle Menéndez y Pelayo, Ensanche, a...</td>\n",
       "      <td>550.000€</td>\n",
       "      <td>Garaje incluido</td>\n",
       "      <td>5 hab.</td>\n",
       "      <td>160 m²</td>\n",
       "    </tr>\n",
       "    <tr>\n",
       "      <th>https://www.idealista.com/inmueble/105859017/</th>\n",
       "      <td>\\nPiso en calle Ría do Burgo, Someso - Matogra...</td>\n",
       "      <td>170.000€</td>\n",
       "      <td>NaN</td>\n",
       "      <td>3 hab.</td>\n",
       "      <td>85 m²</td>\n",
       "    </tr>\n",
       "    <tr>\n",
       "      <th>...</th>\n",
       "      <td>...</td>\n",
       "      <td>...</td>\n",
       "      <td>...</td>\n",
       "      <td>...</td>\n",
       "      <td>...</td>\n",
       "    </tr>\n",
       "    <tr>\n",
       "      <th>https://www.idealista.com/inmueble/101388147/</th>\n",
       "      <td>\\nPiso en avenida Navarra, 5, Monte Alto - Zal...</td>\n",
       "      <td>160.000€</td>\n",
       "      <td>NaN</td>\n",
       "      <td>4 hab.</td>\n",
       "      <td>80 m²</td>\n",
       "    </tr>\n",
       "    <tr>\n",
       "      <th>https://www.idealista.com/inmueble/36223126/</th>\n",
       "      <td>\\nPiso en avenida de Pedralonga, 57, Eirís, a ...</td>\n",
       "      <td>179.000€</td>\n",
       "      <td>Garaje incluido</td>\n",
       "      <td>2 hab.</td>\n",
       "      <td>70 m²</td>\n",
       "    </tr>\n",
       "    <tr>\n",
       "      <th>https://www.idealista.com/inmueble/95139267/</th>\n",
       "      <td>\\nPiso en calle Médico Devesa Nuñez, 19, Somes...</td>\n",
       "      <td>135.000€</td>\n",
       "      <td>NaN</td>\n",
       "      <td>3 hab.</td>\n",
       "      <td>64 m²</td>\n",
       "    </tr>\n",
       "    <tr>\n",
       "      <th>https://www.idealista.com/inmueble/104145671/</th>\n",
       "      <td>\\nChalet adosado en calle Ultramar, 8, Riazor ...</td>\n",
       "      <td>210.000€</td>\n",
       "      <td>NaN</td>\n",
       "      <td>2 hab.</td>\n",
       "      <td>60 m²</td>\n",
       "    </tr>\n",
       "    <tr>\n",
       "      <th>https://www.idealista.com/inmueble/103576765/</th>\n",
       "      <td>\\nCasa o chalet independiente en Poboado o Por...</td>\n",
       "      <td>500.000€</td>\n",
       "      <td>NaN</td>\n",
       "      <td>5 hab.</td>\n",
       "      <td>400 m²</td>\n",
       "    </tr>\n",
       "  </tbody>\n",
       "</table>\n",
       "<p>1127 rows × 5 columns</p>\n",
       "</div>"
      ],
      "text/plain": [
       "                                                                                        itemlink  \\\n",
       "itemlink_URL                                                                                       \n",
       "https://www.idealista.com/inmueble/106370978/  \\nPiso en avenida Hércules, Monte Alto - Zalae...   \n",
       "https://www.idealista.com/inmueble/97221042/   \\nDúplex en calle José Pascual López-Cortón, S...   \n",
       "https://www.idealista.com/inmueble/105277913/  \\nPiso en calle Ramón de la Sagra, Ensanche, a...   \n",
       "https://www.idealista.com/inmueble/105967967/  \\nPiso en calle Menéndez y Pelayo, Ensanche, a...   \n",
       "https://www.idealista.com/inmueble/105859017/  \\nPiso en calle Ría do Burgo, Someso - Matogra...   \n",
       "...                                                                                          ...   \n",
       "https://www.idealista.com/inmueble/101388147/  \\nPiso en avenida Navarra, 5, Monte Alto - Zal...   \n",
       "https://www.idealista.com/inmueble/36223126/   \\nPiso en avenida de Pedralonga, 57, Eirís, a ...   \n",
       "https://www.idealista.com/inmueble/95139267/   \\nPiso en calle Médico Devesa Nuñez, 19, Somes...   \n",
       "https://www.idealista.com/inmueble/104145671/  \\nChalet adosado en calle Ultramar, 8, Riazor ...   \n",
       "https://www.idealista.com/inmueble/103576765/  \\nCasa o chalet independiente en Poboado o Por...   \n",
       "\n",
       "                                                 Precio           itemparking  \\\n",
       "itemlink_URL                                                                    \n",
       "https://www.idealista.com/inmueble/106370978/  285.000€                   NaN   \n",
       "https://www.idealista.com/inmueble/97221042/   480.000€       Garaje incluido   \n",
       "https://www.idealista.com/inmueble/105277913/  460.000€  Garaje opc. 30.000 €   \n",
       "https://www.idealista.com/inmueble/105967967/  550.000€       Garaje incluido   \n",
       "https://www.idealista.com/inmueble/105859017/  170.000€                   NaN   \n",
       "...                                                 ...                   ...   \n",
       "https://www.idealista.com/inmueble/101388147/  160.000€                   NaN   \n",
       "https://www.idealista.com/inmueble/36223126/   179.000€       Garaje incluido   \n",
       "https://www.idealista.com/inmueble/95139267/   135.000€                   NaN   \n",
       "https://www.idealista.com/inmueble/104145671/  210.000€                   NaN   \n",
       "https://www.idealista.com/inmueble/103576765/  500.000€                   NaN   \n",
       "\n",
       "                                              itemdetail itemdetail2  \n",
       "itemlink_URL                                                          \n",
       "https://www.idealista.com/inmueble/106370978/     2 hab.      100 m²  \n",
       "https://www.idealista.com/inmueble/97221042/      4 hab.      200 m²  \n",
       "https://www.idealista.com/inmueble/105277913/     3 hab.      124 m²  \n",
       "https://www.idealista.com/inmueble/105967967/     5 hab.      160 m²  \n",
       "https://www.idealista.com/inmueble/105859017/     3 hab.       85 m²  \n",
       "...                                                  ...         ...  \n",
       "https://www.idealista.com/inmueble/101388147/     4 hab.       80 m²  \n",
       "https://www.idealista.com/inmueble/36223126/      2 hab.       70 m²  \n",
       "https://www.idealista.com/inmueble/95139267/      3 hab.       64 m²  \n",
       "https://www.idealista.com/inmueble/104145671/     2 hab.       60 m²  \n",
       "https://www.idealista.com/inmueble/103576765/     5 hab.      400 m²  \n",
       "\n",
       "[1127 rows x 5 columns]"
      ]
     },
     "execution_count": 242,
     "metadata": {},
     "output_type": "execute_result"
    }
   ],
   "source": [
    "df_properties = pd.read_pickle(path_2)\n",
    "df_properties"
   ]
  },
  {
   "cell_type": "markdown",
   "id": "d8d13061",
   "metadata": {},
   "source": [
    "## DATA QUALITY"
   ]
  },
  {
   "cell_type": "markdown",
   "id": "8b805731",
   "metadata": {},
   "source": [
    "#### General view"
   ]
  },
  {
   "cell_type": "code",
   "execution_count": 243,
   "id": "d501e792",
   "metadata": {
    "scrolled": true
   },
   "outputs": [
    {
     "data": {
      "text/html": [
       "<div>\n",
       "<style scoped>\n",
       "    .dataframe tbody tr th:only-of-type {\n",
       "        vertical-align: middle;\n",
       "    }\n",
       "\n",
       "    .dataframe tbody tr th {\n",
       "        vertical-align: top;\n",
       "    }\n",
       "\n",
       "    .dataframe thead th {\n",
       "        text-align: right;\n",
       "    }\n",
       "</style>\n",
       "<table border=\"1\" class=\"dataframe\">\n",
       "  <thead>\n",
       "    <tr style=\"text-align: right;\">\n",
       "      <th></th>\n",
       "      <th>precio_venta_m2</th>\n",
       "      <th>precio_alquiler_m2</th>\n",
       "    </tr>\n",
       "    <tr>\n",
       "      <th>distrito</th>\n",
       "      <th></th>\n",
       "      <th></th>\n",
       "    </tr>\n",
       "  </thead>\n",
       "  <tbody>\n",
       "    <tr>\n",
       "      <th>Centro - Juan Flórez - Plaza Pontevedra</th>\n",
       "      <td>3.590 €/m²</td>\n",
       "      <td>1.254 €</td>\n",
       "    </tr>\n",
       "    <tr>\n",
       "      <th>Los Castros - Castrillón - Eiris</th>\n",
       "      <td>2.246 €/m²</td>\n",
       "      <td>11 €/m²</td>\n",
       "    </tr>\n",
       "    <tr>\n",
       "      <th>Monte Alto - Zalaeta - Atocha</th>\n",
       "      <td>3.422 €/m²</td>\n",
       "      <td>12 €/m²</td>\n",
       "    </tr>\n",
       "    <tr>\n",
       "      <th>Agra del Orzán - Ventorrillo - Vioño</th>\n",
       "      <td>2.218 €/m²</td>\n",
       "      <td>10 €/m²</td>\n",
       "    </tr>\n",
       "    <tr>\n",
       "      <th>Someso - Matogrande</th>\n",
       "      <td>2.457 €/m²</td>\n",
       "      <td>11 €/m²</td>\n",
       "    </tr>\n",
       "  </tbody>\n",
       "</table>\n",
       "</div>"
      ],
      "text/plain": [
       "                                        precio_venta_m2 precio_alquiler_m2\n",
       "distrito                                                                  \n",
       "Centro - Juan Flórez - Plaza Pontevedra      3.590 €/m²            1.254 €\n",
       "Los Castros - Castrillón - Eiris             2.246 €/m²            11 €/m²\n",
       "Monte Alto - Zalaeta - Atocha                3.422 €/m²            12 €/m²\n",
       "Agra del Orzán - Ventorrillo - Vioño         2.218 €/m²            10 €/m²\n",
       "Someso - Matogrande                          2.457 €/m²            11 €/m²"
      ]
     },
     "execution_count": 243,
     "metadata": {},
     "output_type": "execute_result"
    }
   ],
   "source": [
    "df_rental_sale.head()"
   ]
  },
  {
   "cell_type": "code",
   "execution_count": 244,
   "id": "28cf8000",
   "metadata": {},
   "outputs": [
    {
     "name": "stdout",
     "output_type": "stream",
     "text": [
      "<class 'pandas.core.frame.DataFrame'>\n",
      "Index: 13 entries, Centro - Juan Flórez - Plaza Pontevedra to Mesoiro\n",
      "Data columns (total 2 columns):\n",
      " #   Column              Non-Null Count  Dtype \n",
      "---  ------              --------------  ----- \n",
      " 0   precio_venta_m2     13 non-null     object\n",
      " 1   precio_alquiler_m2  13 non-null     object\n",
      "dtypes: object(2)\n",
      "memory usage: 312.0+ bytes\n"
     ]
    }
   ],
   "source": [
    "df_rental_sale.info()"
   ]
  },
  {
   "cell_type": "markdown",
   "id": "d2510bea-03bb-4c59-bcd7-37f586a8250b",
   "metadata": {},
   "source": [
    "#### Name cleaning"
   ]
  },
  {
   "cell_type": "code",
   "execution_count": 245,
   "id": "33da236e-0c08-42d5-9303-1e512648cc7a",
   "metadata": {},
   "outputs": [],
   "source": [
    "from janitor import clean_names"
   ]
  },
  {
   "cell_type": "code",
   "execution_count": 246,
   "id": "c457881a-5829-425d-82a7-d7d1f3ed5e95",
   "metadata": {},
   "outputs": [
    {
     "data": {
      "text/html": [
       "<div>\n",
       "<style scoped>\n",
       "    .dataframe tbody tr th:only-of-type {\n",
       "        vertical-align: middle;\n",
       "    }\n",
       "\n",
       "    .dataframe tbody tr th {\n",
       "        vertical-align: top;\n",
       "    }\n",
       "\n",
       "    .dataframe thead th {\n",
       "        text-align: right;\n",
       "    }\n",
       "</style>\n",
       "<table border=\"1\" class=\"dataframe\">\n",
       "  <thead>\n",
       "    <tr style=\"text-align: right;\">\n",
       "      <th></th>\n",
       "      <th>itemlink</th>\n",
       "      <th>precio</th>\n",
       "      <th>itemparking</th>\n",
       "      <th>itemdetail</th>\n",
       "      <th>itemdetail2</th>\n",
       "    </tr>\n",
       "    <tr>\n",
       "      <th>itemlink_URL</th>\n",
       "      <th></th>\n",
       "      <th></th>\n",
       "      <th></th>\n",
       "      <th></th>\n",
       "      <th></th>\n",
       "    </tr>\n",
       "  </thead>\n",
       "  <tbody>\n",
       "    <tr>\n",
       "      <th>https://www.idealista.com/inmueble/106370978/</th>\n",
       "      <td>\\nPiso en avenida Hércules, Monte Alto - Zalae...</td>\n",
       "      <td>285.000€</td>\n",
       "      <td>NaN</td>\n",
       "      <td>2 hab.</td>\n",
       "      <td>100 m²</td>\n",
       "    </tr>\n",
       "    <tr>\n",
       "      <th>https://www.idealista.com/inmueble/97221042/</th>\n",
       "      <td>\\nDúplex en calle José Pascual López-Cortón, S...</td>\n",
       "      <td>480.000€</td>\n",
       "      <td>Garaje incluido</td>\n",
       "      <td>4 hab.</td>\n",
       "      <td>200 m²</td>\n",
       "    </tr>\n",
       "    <tr>\n",
       "      <th>https://www.idealista.com/inmueble/105277913/</th>\n",
       "      <td>\\nPiso en calle Ramón de la Sagra, Ensanche, a...</td>\n",
       "      <td>460.000€</td>\n",
       "      <td>Garaje opc. 30.000 €</td>\n",
       "      <td>3 hab.</td>\n",
       "      <td>124 m²</td>\n",
       "    </tr>\n",
       "    <tr>\n",
       "      <th>https://www.idealista.com/inmueble/105967967/</th>\n",
       "      <td>\\nPiso en calle Menéndez y Pelayo, Ensanche, a...</td>\n",
       "      <td>550.000€</td>\n",
       "      <td>Garaje incluido</td>\n",
       "      <td>5 hab.</td>\n",
       "      <td>160 m²</td>\n",
       "    </tr>\n",
       "    <tr>\n",
       "      <th>https://www.idealista.com/inmueble/105859017/</th>\n",
       "      <td>\\nPiso en calle Ría do Burgo, Someso - Matogra...</td>\n",
       "      <td>170.000€</td>\n",
       "      <td>NaN</td>\n",
       "      <td>3 hab.</td>\n",
       "      <td>85 m²</td>\n",
       "    </tr>\n",
       "    <tr>\n",
       "      <th>...</th>\n",
       "      <td>...</td>\n",
       "      <td>...</td>\n",
       "      <td>...</td>\n",
       "      <td>...</td>\n",
       "      <td>...</td>\n",
       "    </tr>\n",
       "    <tr>\n",
       "      <th>https://www.idealista.com/inmueble/101388147/</th>\n",
       "      <td>\\nPiso en avenida Navarra, 5, Monte Alto - Zal...</td>\n",
       "      <td>160.000€</td>\n",
       "      <td>NaN</td>\n",
       "      <td>4 hab.</td>\n",
       "      <td>80 m²</td>\n",
       "    </tr>\n",
       "    <tr>\n",
       "      <th>https://www.idealista.com/inmueble/36223126/</th>\n",
       "      <td>\\nPiso en avenida de Pedralonga, 57, Eirís, a ...</td>\n",
       "      <td>179.000€</td>\n",
       "      <td>Garaje incluido</td>\n",
       "      <td>2 hab.</td>\n",
       "      <td>70 m²</td>\n",
       "    </tr>\n",
       "    <tr>\n",
       "      <th>https://www.idealista.com/inmueble/95139267/</th>\n",
       "      <td>\\nPiso en calle Médico Devesa Nuñez, 19, Somes...</td>\n",
       "      <td>135.000€</td>\n",
       "      <td>NaN</td>\n",
       "      <td>3 hab.</td>\n",
       "      <td>64 m²</td>\n",
       "    </tr>\n",
       "    <tr>\n",
       "      <th>https://www.idealista.com/inmueble/104145671/</th>\n",
       "      <td>\\nChalet adosado en calle Ultramar, 8, Riazor ...</td>\n",
       "      <td>210.000€</td>\n",
       "      <td>NaN</td>\n",
       "      <td>2 hab.</td>\n",
       "      <td>60 m²</td>\n",
       "    </tr>\n",
       "    <tr>\n",
       "      <th>https://www.idealista.com/inmueble/103576765/</th>\n",
       "      <td>\\nCasa o chalet independiente en Poboado o Por...</td>\n",
       "      <td>500.000€</td>\n",
       "      <td>NaN</td>\n",
       "      <td>5 hab.</td>\n",
       "      <td>400 m²</td>\n",
       "    </tr>\n",
       "  </tbody>\n",
       "</table>\n",
       "<p>1127 rows × 5 columns</p>\n",
       "</div>"
      ],
      "text/plain": [
       "                                                                                        itemlink  \\\n",
       "itemlink_URL                                                                                       \n",
       "https://www.idealista.com/inmueble/106370978/  \\nPiso en avenida Hércules, Monte Alto - Zalae...   \n",
       "https://www.idealista.com/inmueble/97221042/   \\nDúplex en calle José Pascual López-Cortón, S...   \n",
       "https://www.idealista.com/inmueble/105277913/  \\nPiso en calle Ramón de la Sagra, Ensanche, a...   \n",
       "https://www.idealista.com/inmueble/105967967/  \\nPiso en calle Menéndez y Pelayo, Ensanche, a...   \n",
       "https://www.idealista.com/inmueble/105859017/  \\nPiso en calle Ría do Burgo, Someso - Matogra...   \n",
       "...                                                                                          ...   \n",
       "https://www.idealista.com/inmueble/101388147/  \\nPiso en avenida Navarra, 5, Monte Alto - Zal...   \n",
       "https://www.idealista.com/inmueble/36223126/   \\nPiso en avenida de Pedralonga, 57, Eirís, a ...   \n",
       "https://www.idealista.com/inmueble/95139267/   \\nPiso en calle Médico Devesa Nuñez, 19, Somes...   \n",
       "https://www.idealista.com/inmueble/104145671/  \\nChalet adosado en calle Ultramar, 8, Riazor ...   \n",
       "https://www.idealista.com/inmueble/103576765/  \\nCasa o chalet independiente en Poboado o Por...   \n",
       "\n",
       "                                                 precio           itemparking  \\\n",
       "itemlink_URL                                                                    \n",
       "https://www.idealista.com/inmueble/106370978/  285.000€                   NaN   \n",
       "https://www.idealista.com/inmueble/97221042/   480.000€       Garaje incluido   \n",
       "https://www.idealista.com/inmueble/105277913/  460.000€  Garaje opc. 30.000 €   \n",
       "https://www.idealista.com/inmueble/105967967/  550.000€       Garaje incluido   \n",
       "https://www.idealista.com/inmueble/105859017/  170.000€                   NaN   \n",
       "...                                                 ...                   ...   \n",
       "https://www.idealista.com/inmueble/101388147/  160.000€                   NaN   \n",
       "https://www.idealista.com/inmueble/36223126/   179.000€       Garaje incluido   \n",
       "https://www.idealista.com/inmueble/95139267/   135.000€                   NaN   \n",
       "https://www.idealista.com/inmueble/104145671/  210.000€                   NaN   \n",
       "https://www.idealista.com/inmueble/103576765/  500.000€                   NaN   \n",
       "\n",
       "                                              itemdetail itemdetail2  \n",
       "itemlink_URL                                                          \n",
       "https://www.idealista.com/inmueble/106370978/     2 hab.      100 m²  \n",
       "https://www.idealista.com/inmueble/97221042/      4 hab.      200 m²  \n",
       "https://www.idealista.com/inmueble/105277913/     3 hab.      124 m²  \n",
       "https://www.idealista.com/inmueble/105967967/     5 hab.      160 m²  \n",
       "https://www.idealista.com/inmueble/105859017/     3 hab.       85 m²  \n",
       "...                                                  ...         ...  \n",
       "https://www.idealista.com/inmueble/101388147/     4 hab.       80 m²  \n",
       "https://www.idealista.com/inmueble/36223126/      2 hab.       70 m²  \n",
       "https://www.idealista.com/inmueble/95139267/      3 hab.       64 m²  \n",
       "https://www.idealista.com/inmueble/104145671/     2 hab.       60 m²  \n",
       "https://www.idealista.com/inmueble/103576765/     5 hab.      400 m²  \n",
       "\n",
       "[1127 rows x 5 columns]"
      ]
     },
     "execution_count": 246,
     "metadata": {},
     "output_type": "execute_result"
    }
   ],
   "source": [
    "clean_names(df_rental_sale)\n",
    "clean_names(df_properties)"
   ]
  },
  {
   "cell_type": "markdown",
   "id": "fd67f327-e688-40b1-8c5f-522548b9a221",
   "metadata": {},
   "source": [
    "We clean up whitespace at the end of the district names in the rental_sale dataframe."
   ]
  },
  {
   "cell_type": "code",
   "execution_count": 247,
   "id": "8225013e-ebca-4b2f-bc2a-170b3b009ef7",
   "metadata": {},
   "outputs": [],
   "source": [
    "df_rental_sale.reset_index(inplace=True)"
   ]
  },
  {
   "cell_type": "code",
   "execution_count": 248,
   "id": "f589075f-3f04-4083-ac0d-90d752c52b04",
   "metadata": {},
   "outputs": [
    {
     "data": {
      "text/plain": [
       "0     Centro - Juan Flórez - Plaza Pontevedra\n",
       "1            Los Castros - Castrillón - Eiris\n",
       "2               Monte Alto - Zalaeta - Atocha\n",
       "3        Agra del Orzán - Ventorrillo - Vioño\n",
       "4                         Someso - Matogrande\n",
       "5         Cuatro Caminos - Plaza de la Cubela\n",
       "6                        Riazor - Los Rosales\n",
       "7                                   Os Mallos\n",
       "8                                Ciudad Vieja\n",
       "9                             Sagrada Familia\n",
       "10                       Elviña - A Zapateira\n",
       "11                                      Vioño\n",
       "12                                    Mesoiro\n",
       "Name: distrito, dtype: object"
      ]
     },
     "execution_count": 248,
     "metadata": {},
     "output_type": "execute_result"
    }
   ],
   "source": [
    "df_rental_sale.distrito= df_rental_sale.distrito.apply(lambda x: x.rstrip())\n",
    "df_rental_sale.distrito"
   ]
  },
  {
   "cell_type": "code",
   "execution_count": 249,
   "id": "436682fd-9e35-47f8-8fc1-308d95022976",
   "metadata": {},
   "outputs": [],
   "source": [
    "df_rental_sale.set_index('distrito',inplace=True)"
   ]
  },
  {
   "cell_type": "markdown",
   "id": "fe35551b",
   "metadata": {},
   "source": [
    "#### Variables and types"
   ]
  },
  {
   "cell_type": "markdown",
   "id": "702288df",
   "metadata": {},
   "source": [
    "**We review the variable types.**"
   ]
  },
  {
   "cell_type": "code",
   "execution_count": 250,
   "id": "6bc60931",
   "metadata": {},
   "outputs": [
    {
     "name": "stdout",
     "output_type": "stream",
     "text": [
      "<class 'pandas.core.frame.DataFrame'>\n",
      "Index: 13 entries, Centro - Juan Flórez - Plaza Pontevedra to Mesoiro\n",
      "Data columns (total 2 columns):\n",
      " #   Column              Non-Null Count  Dtype \n",
      "---  ------              --------------  ----- \n",
      " 0   precio_venta_m2     13 non-null     object\n",
      " 1   precio_alquiler_m2  13 non-null     object\n",
      "dtypes: object(2)\n",
      "memory usage: 312.0+ bytes\n"
     ]
    }
   ],
   "source": [
    "df_rental_sale.info()"
   ]
  },
  {
   "cell_type": "code",
   "execution_count": 251,
   "id": "a38f21c5-263a-4795-bade-3076bbea5983",
   "metadata": {},
   "outputs": [
    {
     "name": "stdout",
     "output_type": "stream",
     "text": [
      "<class 'pandas.core.frame.DataFrame'>\n",
      "Index: 1127 entries, https://www.idealista.com/inmueble/106370978/ to https://www.idealista.com/inmueble/103576765/\n",
      "Data columns (total 5 columns):\n",
      " #   Column       Non-Null Count  Dtype \n",
      "---  ------       --------------  ----- \n",
      " 0   itemlink     1127 non-null   object\n",
      " 1   Precio       1127 non-null   object\n",
      " 2   itemparking  458 non-null    object\n",
      " 3   itemdetail   1127 non-null   object\n",
      " 4   itemdetail2  1124 non-null   object\n",
      "dtypes: object(5)\n",
      "memory usage: 52.8+ KB\n"
     ]
    }
   ],
   "source": [
    "df_properties.info()"
   ]
  },
  {
   "cell_type": "markdown",
   "id": "0f18a8be-7bbd-4c17-9396-d36502f6ed79",
   "metadata": {},
   "source": [
    "**We rename the variables we consider necessary and correct the data of the variables prior to type reassignment.**"
   ]
  },
  {
   "cell_type": "markdown",
   "id": "a045d77e-8c35-4760-b662-fdedc6e7da81",
   "metadata": {},
   "source": [
    "**We start with df_properties.**"
   ]
  },
  {
   "cell_type": "code",
   "execution_count": 252,
   "id": "4d827664-bddf-4d8f-be46-fdff37f8b735",
   "metadata": {},
   "outputs": [],
   "source": [
    "df_properties.reset_index(inplace=True)"
   ]
  },
  {
   "cell_type": "code",
   "execution_count": 253,
   "id": "f8e856b4-aaf1-4c0f-adc7-44f2393ee6a2",
   "metadata": {},
   "outputs": [],
   "source": [
    "df_properties.columns=['url','address','sale_price','parking','rooms','m2']"
   ]
  },
  {
   "cell_type": "code",
   "execution_count": 254,
   "id": "56d73ee9-83de-4c3e-a250-eaa9fb34d8ad",
   "metadata": {},
   "outputs": [],
   "source": [
    "df_properties.address= df_properties.address.str.replace('\\n','')"
   ]
  },
  {
   "cell_type": "code",
   "execution_count": 255,
   "id": "9c81dea3-017f-4592-9221-02a79499db40",
   "metadata": {},
   "outputs": [],
   "source": [
    "df_properties['district']= df_properties.address.apply(lambda x: x.split(',')[-2].strip())"
   ]
  },
  {
   "cell_type": "code",
   "execution_count": 256,
   "id": "f6ba1348-90c9-4536-a683-2415fc2b0539",
   "metadata": {},
   "outputs": [
    {
     "data": {
      "text/html": [
       "<div>\n",
       "<style scoped>\n",
       "    .dataframe tbody tr th:only-of-type {\n",
       "        vertical-align: middle;\n",
       "    }\n",
       "\n",
       "    .dataframe tbody tr th {\n",
       "        vertical-align: top;\n",
       "    }\n",
       "\n",
       "    .dataframe thead th {\n",
       "        text-align: right;\n",
       "    }\n",
       "</style>\n",
       "<table border=\"1\" class=\"dataframe\">\n",
       "  <thead>\n",
       "    <tr style=\"text-align: right;\">\n",
       "      <th></th>\n",
       "      <th>url</th>\n",
       "      <th>address</th>\n",
       "      <th>sale_price</th>\n",
       "      <th>parking</th>\n",
       "      <th>rooms</th>\n",
       "      <th>m2</th>\n",
       "      <th>district</th>\n",
       "    </tr>\n",
       "  </thead>\n",
       "  <tbody>\n",
       "    <tr>\n",
       "      <th>0</th>\n",
       "      <td>https://www.idealista.com/inmueble/106370978/</td>\n",
       "      <td>Piso en avenida Hércules, Monte Alto - Zalaeta...</td>\n",
       "      <td>285.000€</td>\n",
       "      <td>NaN</td>\n",
       "      <td>2 hab.</td>\n",
       "      <td>100 m²</td>\n",
       "      <td>Monte Alto - Zalaeta - Atocha</td>\n",
       "    </tr>\n",
       "    <tr>\n",
       "      <th>1</th>\n",
       "      <td>https://www.idealista.com/inmueble/97221042/</td>\n",
       "      <td>Dúplex en calle José Pascual López-Cortón, Som...</td>\n",
       "      <td>480.000€</td>\n",
       "      <td>Garaje incluido</td>\n",
       "      <td>4 hab.</td>\n",
       "      <td>200 m²</td>\n",
       "      <td>Someso - Matogrande</td>\n",
       "    </tr>\n",
       "    <tr>\n",
       "      <th>2</th>\n",
       "      <td>https://www.idealista.com/inmueble/105277913/</td>\n",
       "      <td>Piso en calle Ramón de la Sagra, Ensanche, a C...</td>\n",
       "      <td>460.000€</td>\n",
       "      <td>Garaje opc. 30.000 €</td>\n",
       "      <td>3 hab.</td>\n",
       "      <td>124 m²</td>\n",
       "      <td>Ensanche</td>\n",
       "    </tr>\n",
       "    <tr>\n",
       "      <th>3</th>\n",
       "      <td>https://www.idealista.com/inmueble/105967967/</td>\n",
       "      <td>Piso en calle Menéndez y Pelayo, Ensanche, a C...</td>\n",
       "      <td>550.000€</td>\n",
       "      <td>Garaje incluido</td>\n",
       "      <td>5 hab.</td>\n",
       "      <td>160 m²</td>\n",
       "      <td>Ensanche</td>\n",
       "    </tr>\n",
       "    <tr>\n",
       "      <th>4</th>\n",
       "      <td>https://www.idealista.com/inmueble/105859017/</td>\n",
       "      <td>Piso en calle Ría do Burgo, Someso - Matogrand...</td>\n",
       "      <td>170.000€</td>\n",
       "      <td>NaN</td>\n",
       "      <td>3 hab.</td>\n",
       "      <td>85 m²</td>\n",
       "      <td>Someso - Matogrande</td>\n",
       "    </tr>\n",
       "    <tr>\n",
       "      <th>...</th>\n",
       "      <td>...</td>\n",
       "      <td>...</td>\n",
       "      <td>...</td>\n",
       "      <td>...</td>\n",
       "      <td>...</td>\n",
       "      <td>...</td>\n",
       "      <td>...</td>\n",
       "    </tr>\n",
       "    <tr>\n",
       "      <th>1122</th>\n",
       "      <td>https://www.idealista.com/inmueble/101388147/</td>\n",
       "      <td>Piso en avenida Navarra, 5, Monte Alto - Zalae...</td>\n",
       "      <td>160.000€</td>\n",
       "      <td>NaN</td>\n",
       "      <td>4 hab.</td>\n",
       "      <td>80 m²</td>\n",
       "      <td>Monte Alto - Zalaeta - Atocha</td>\n",
       "    </tr>\n",
       "    <tr>\n",
       "      <th>1123</th>\n",
       "      <td>https://www.idealista.com/inmueble/36223126/</td>\n",
       "      <td>Piso en avenida de Pedralonga, 57, Eirís, a Co...</td>\n",
       "      <td>179.000€</td>\n",
       "      <td>Garaje incluido</td>\n",
       "      <td>2 hab.</td>\n",
       "      <td>70 m²</td>\n",
       "      <td>Eirís</td>\n",
       "    </tr>\n",
       "    <tr>\n",
       "      <th>1124</th>\n",
       "      <td>https://www.idealista.com/inmueble/95139267/</td>\n",
       "      <td>Piso en calle Médico Devesa Nuñez, 19, Someso ...</td>\n",
       "      <td>135.000€</td>\n",
       "      <td>NaN</td>\n",
       "      <td>3 hab.</td>\n",
       "      <td>64 m²</td>\n",
       "      <td>Someso - Matogrande</td>\n",
       "    </tr>\n",
       "    <tr>\n",
       "      <th>1125</th>\n",
       "      <td>https://www.idealista.com/inmueble/104145671/</td>\n",
       "      <td>Chalet adosado en calle Ultramar, 8, Riazor - ...</td>\n",
       "      <td>210.000€</td>\n",
       "      <td>NaN</td>\n",
       "      <td>2 hab.</td>\n",
       "      <td>60 m²</td>\n",
       "      <td>Riazor - Los Rosales</td>\n",
       "    </tr>\n",
       "    <tr>\n",
       "      <th>1126</th>\n",
       "      <td>https://www.idealista.com/inmueble/103576765/</td>\n",
       "      <td>Casa o chalet independiente en Poboado o Porti...</td>\n",
       "      <td>500.000€</td>\n",
       "      <td>NaN</td>\n",
       "      <td>5 hab.</td>\n",
       "      <td>400 m²</td>\n",
       "      <td>Riazor - Los Rosales</td>\n",
       "    </tr>\n",
       "  </tbody>\n",
       "</table>\n",
       "<p>1127 rows × 7 columns</p>\n",
       "</div>"
      ],
      "text/plain": [
       "                                                url  \\\n",
       "0     https://www.idealista.com/inmueble/106370978/   \n",
       "1      https://www.idealista.com/inmueble/97221042/   \n",
       "2     https://www.idealista.com/inmueble/105277913/   \n",
       "3     https://www.idealista.com/inmueble/105967967/   \n",
       "4     https://www.idealista.com/inmueble/105859017/   \n",
       "...                                             ...   \n",
       "1122  https://www.idealista.com/inmueble/101388147/   \n",
       "1123   https://www.idealista.com/inmueble/36223126/   \n",
       "1124   https://www.idealista.com/inmueble/95139267/   \n",
       "1125  https://www.idealista.com/inmueble/104145671/   \n",
       "1126  https://www.idealista.com/inmueble/103576765/   \n",
       "\n",
       "                                                address sale_price  \\\n",
       "0     Piso en avenida Hércules, Monte Alto - Zalaeta...   285.000€   \n",
       "1     Dúplex en calle José Pascual López-Cortón, Som...   480.000€   \n",
       "2     Piso en calle Ramón de la Sagra, Ensanche, a C...   460.000€   \n",
       "3     Piso en calle Menéndez y Pelayo, Ensanche, a C...   550.000€   \n",
       "4     Piso en calle Ría do Burgo, Someso - Matogrand...   170.000€   \n",
       "...                                                 ...        ...   \n",
       "1122  Piso en avenida Navarra, 5, Monte Alto - Zalae...   160.000€   \n",
       "1123  Piso en avenida de Pedralonga, 57, Eirís, a Co...   179.000€   \n",
       "1124  Piso en calle Médico Devesa Nuñez, 19, Someso ...   135.000€   \n",
       "1125  Chalet adosado en calle Ultramar, 8, Riazor - ...   210.000€   \n",
       "1126  Casa o chalet independiente en Poboado o Porti...   500.000€   \n",
       "\n",
       "                   parking   rooms      m2                       district  \n",
       "0                      NaN  2 hab.  100 m²  Monte Alto - Zalaeta - Atocha  \n",
       "1          Garaje incluido  4 hab.  200 m²            Someso - Matogrande  \n",
       "2     Garaje opc. 30.000 €  3 hab.  124 m²                       Ensanche  \n",
       "3          Garaje incluido  5 hab.  160 m²                       Ensanche  \n",
       "4                      NaN  3 hab.   85 m²            Someso - Matogrande  \n",
       "...                    ...     ...     ...                            ...  \n",
       "1122                   NaN  4 hab.   80 m²  Monte Alto - Zalaeta - Atocha  \n",
       "1123       Garaje incluido  2 hab.   70 m²                          Eirís  \n",
       "1124                   NaN  3 hab.   64 m²            Someso - Matogrande  \n",
       "1125                   NaN  2 hab.   60 m²           Riazor - Los Rosales  \n",
       "1126                   NaN  5 hab.  400 m²           Riazor - Los Rosales  \n",
       "\n",
       "[1127 rows x 7 columns]"
      ]
     },
     "execution_count": 256,
     "metadata": {},
     "output_type": "execute_result"
    }
   ],
   "source": [
    "df_properties"
   ]
  },
  {
   "cell_type": "markdown",
   "id": "f9a878ed-f8a3-4a8d-8a23-36d4c0f5fe5d",
   "metadata": {},
   "source": [
    "We remove all properties that are houses or chalets."
   ]
  },
  {
   "cell_type": "code",
   "execution_count": 257,
   "id": "c0a63330-73bf-4a46-a0c8-c26410171e15",
   "metadata": {},
   "outputs": [],
   "source": [
    "text_list=('Cas','Chalet')"
   ]
  },
  {
   "cell_type": "code",
   "execution_count": 258,
   "id": "5e6bf747-6b0e-4f4e-9bd1-9c336b5650db",
   "metadata": {},
   "outputs": [],
   "source": [
    "to_remove_list=df_properties.loc[df_properties.address.str.startswith(text_list)].index.to_list()"
   ]
  },
  {
   "cell_type": "code",
   "execution_count": 259,
   "id": "5540afcd-2b1c-46dd-a12c-7a098ca9d415",
   "metadata": {},
   "outputs": [],
   "source": [
    "df_properties.drop(index=to_remove_list,inplace=True)"
   ]
  },
  {
   "cell_type": "markdown",
   "id": "32f1e3db-096f-48d1-b693-42a17ea44207",
   "metadata": {},
   "source": [
    "We correct the values of the address and district variables that have incorrect text."
   ]
  },
  {
   "cell_type": "code",
   "execution_count": 260,
   "id": "a6358718-23d6-46d4-bb1c-7ed0755be4ca",
   "metadata": {},
   "outputs": [],
   "source": [
    "to_remove=['Piso en ','Dúplex en ','Casa o chalet independiente en ','Ático en ','Estudio en ','Chalet adosado en ','Chalet en ']\n",
    "\n",
    "for i in to_remove:\n",
    "   df_properties.district= df_properties.district.str.replace(i,'') \n",
    "\n",
    "for i in to_remove:\n",
    "   df_properties.district= df_properties.district.str.replace(i,'') "
   ]
  },
  {
   "cell_type": "markdown",
   "id": "6726b4a8-e221-4c5a-a6ab-0a2bc53ab2a4",
   "metadata": {},
   "source": [
    "We change the garage variable to a binary Yes/No. We consider optional garage as No."
   ]
  },
  {
   "cell_type": "code",
   "execution_count": 261,
   "id": "eed9b326-3a46-45de-88d6-60601f7751ed",
   "metadata": {},
   "outputs": [],
   "source": [
    "def replace_garage(variable):\n",
    "    if variable=='Garaje incluido':\n",
    "        return'SI'\n",
    "    else:\n",
    "        return 'NO'\n",
    "\n",
    "df_properties.parking= df_properties.parking.apply(lambda x: replace_garage(x))"
   ]
  },
  {
   "cell_type": "markdown",
   "id": "a1a8d2b4-c4e9-402f-9fb0-28e294a6c4a0",
   "metadata": {},
   "source": [
    "We remove the currency from the price text."
   ]
  },
  {
   "cell_type": "code",
   "execution_count": 262,
   "id": "68316c46-73d0-42fc-8bc4-c0a317923266",
   "metadata": {},
   "outputs": [],
   "source": [
    "df_properties.sale_price= df_properties.sale_price.str.replace('€','')"
   ]
  },
  {
   "cell_type": "code",
   "execution_count": 263,
   "id": "152ad3d7-449b-4e94-a677-535319c053af",
   "metadata": {},
   "outputs": [],
   "source": [
    "df_properties.sale_price= df_properties.sale_price.str.replace('.','')"
   ]
  },
  {
   "cell_type": "markdown",
   "id": "d91d64c5-30cd-43ff-b47a-1f618391bdfc",
   "metadata": {},
   "source": [
    "There are some records that have the rooms variable incorrectly assigned. They actually do not have a value, and the square meters were assigned to it during scraping.\n",
    "\n",
    "We move the data to its corresponding column and mark the record for n_rooms as null by assigning it 0. This way, we can later convert the variable to int and correct the nulls in the appropriate section."
   ]
  },
  {
   "cell_type": "code",
   "execution_count": 264,
   "id": "165a5783-42c3-47e7-8faa-1c646e31165a",
   "metadata": {},
   "outputs": [],
   "source": [
    "df_properties.loc[~df_properties.rooms.apply(lambda x: x.__contains__('hab')),'m2']=df_properties.loc[~df_properties.rooms.apply(lambda x: x.__contains__('hab')),'rooms']"
   ]
  },
  {
   "cell_type": "code",
   "execution_count": 265,
   "id": "200c0e9e-3fbd-47b5-b20d-788f7b22442a",
   "metadata": {},
   "outputs": [],
   "source": [
    "df_properties.loc[~df_properties.rooms.apply(lambda x: x.__contains__('hab')),'rooms']='0'"
   ]
  },
  {
   "cell_type": "markdown",
   "id": "f2b2a91b-4625-4c25-a67c-436d0803e14d",
   "metadata": {},
   "source": [
    "We correct the text in the values of the m2 column."
   ]
  },
  {
   "cell_type": "code",
   "execution_count": 266,
   "id": "0c7bf14e-8401-4f75-9051-7cbab8c98e66",
   "metadata": {},
   "outputs": [],
   "source": [
    "df_properties.m2= df_properties.m2.str.replace('m²','')"
   ]
  },
  {
   "cell_type": "code",
   "execution_count": 267,
   "id": "fcae505e-14ad-4c59-952e-1a198d27d23f",
   "metadata": {},
   "outputs": [],
   "source": [
    "df_properties.m2= df_properties.m2.str.replace('.','')"
   ]
  },
  {
   "cell_type": "markdown",
   "id": "92433396-320e-4ec2-9fd4-445da0d8e46e",
   "metadata": {},
   "source": [
    "We correct the text in the values of the room column."
   ]
  },
  {
   "cell_type": "code",
   "execution_count": 268,
   "id": "f448c680-5d39-41e7-abcc-daea724646e4",
   "metadata": {},
   "outputs": [],
   "source": [
    "df_properties.rooms= df_properties.rooms.str.replace(' hab.','')"
   ]
  },
  {
   "cell_type": "code",
   "execution_count": 269,
   "id": "fdbaf4d3-2b04-4296-a537-f0b7189cad5d",
   "metadata": {},
   "outputs": [
    {
     "data": {
      "text/html": [
       "<div>\n",
       "<style scoped>\n",
       "    .dataframe tbody tr th:only-of-type {\n",
       "        vertical-align: middle;\n",
       "    }\n",
       "\n",
       "    .dataframe tbody tr th {\n",
       "        vertical-align: top;\n",
       "    }\n",
       "\n",
       "    .dataframe thead th {\n",
       "        text-align: right;\n",
       "    }\n",
       "</style>\n",
       "<table border=\"1\" class=\"dataframe\">\n",
       "  <thead>\n",
       "    <tr style=\"text-align: right;\">\n",
       "      <th></th>\n",
       "      <th>url</th>\n",
       "      <th>address</th>\n",
       "      <th>sale_price</th>\n",
       "      <th>parking</th>\n",
       "      <th>rooms</th>\n",
       "      <th>m2</th>\n",
       "      <th>district</th>\n",
       "    </tr>\n",
       "  </thead>\n",
       "  <tbody>\n",
       "    <tr>\n",
       "      <th>0</th>\n",
       "      <td>https://www.idealista.com/inmueble/106370978/</td>\n",
       "      <td>Piso en avenida Hércules, Monte Alto - Zalaeta...</td>\n",
       "      <td>285000</td>\n",
       "      <td>NO</td>\n",
       "      <td>2</td>\n",
       "      <td>100</td>\n",
       "      <td>Monte Alto - Zalaeta - Atocha</td>\n",
       "    </tr>\n",
       "    <tr>\n",
       "      <th>1</th>\n",
       "      <td>https://www.idealista.com/inmueble/97221042/</td>\n",
       "      <td>Dúplex en calle José Pascual López-Cortón, Som...</td>\n",
       "      <td>480000</td>\n",
       "      <td>SI</td>\n",
       "      <td>4</td>\n",
       "      <td>200</td>\n",
       "      <td>Someso - Matogrande</td>\n",
       "    </tr>\n",
       "    <tr>\n",
       "      <th>2</th>\n",
       "      <td>https://www.idealista.com/inmueble/105277913/</td>\n",
       "      <td>Piso en calle Ramón de la Sagra, Ensanche, a C...</td>\n",
       "      <td>460000</td>\n",
       "      <td>NO</td>\n",
       "      <td>3</td>\n",
       "      <td>124</td>\n",
       "      <td>Ensanche</td>\n",
       "    </tr>\n",
       "    <tr>\n",
       "      <th>3</th>\n",
       "      <td>https://www.idealista.com/inmueble/105967967/</td>\n",
       "      <td>Piso en calle Menéndez y Pelayo, Ensanche, a C...</td>\n",
       "      <td>550000</td>\n",
       "      <td>SI</td>\n",
       "      <td>5</td>\n",
       "      <td>160</td>\n",
       "      <td>Ensanche</td>\n",
       "    </tr>\n",
       "    <tr>\n",
       "      <th>4</th>\n",
       "      <td>https://www.idealista.com/inmueble/105859017/</td>\n",
       "      <td>Piso en calle Ría do Burgo, Someso - Matogrand...</td>\n",
       "      <td>170000</td>\n",
       "      <td>NO</td>\n",
       "      <td>3</td>\n",
       "      <td>85</td>\n",
       "      <td>Someso - Matogrande</td>\n",
       "    </tr>\n",
       "    <tr>\n",
       "      <th>...</th>\n",
       "      <td>...</td>\n",
       "      <td>...</td>\n",
       "      <td>...</td>\n",
       "      <td>...</td>\n",
       "      <td>...</td>\n",
       "      <td>...</td>\n",
       "      <td>...</td>\n",
       "    </tr>\n",
       "    <tr>\n",
       "      <th>1119</th>\n",
       "      <td>https://www.idealista.com/inmueble/104453354/</td>\n",
       "      <td>Piso en calle Tornos, 29, Sagrada Familia, a C...</td>\n",
       "      <td>150000</td>\n",
       "      <td>NO</td>\n",
       "      <td>3</td>\n",
       "      <td>58</td>\n",
       "      <td>Sagrada Familia</td>\n",
       "    </tr>\n",
       "    <tr>\n",
       "      <th>1120</th>\n",
       "      <td>https://www.idealista.com/inmueble/81928768/</td>\n",
       "      <td>Piso en calle Vila de Negreira, 30, Agra del O...</td>\n",
       "      <td>160000</td>\n",
       "      <td>NO</td>\n",
       "      <td>2</td>\n",
       "      <td>87</td>\n",
       "      <td>Agra del Orzán - Ventorrillo</td>\n",
       "    </tr>\n",
       "    <tr>\n",
       "      <th>1122</th>\n",
       "      <td>https://www.idealista.com/inmueble/101388147/</td>\n",
       "      <td>Piso en avenida Navarra, 5, Monte Alto - Zalae...</td>\n",
       "      <td>160000</td>\n",
       "      <td>NO</td>\n",
       "      <td>4</td>\n",
       "      <td>80</td>\n",
       "      <td>Monte Alto - Zalaeta - Atocha</td>\n",
       "    </tr>\n",
       "    <tr>\n",
       "      <th>1123</th>\n",
       "      <td>https://www.idealista.com/inmueble/36223126/</td>\n",
       "      <td>Piso en avenida de Pedralonga, 57, Eirís, a Co...</td>\n",
       "      <td>179000</td>\n",
       "      <td>SI</td>\n",
       "      <td>2</td>\n",
       "      <td>70</td>\n",
       "      <td>Eirís</td>\n",
       "    </tr>\n",
       "    <tr>\n",
       "      <th>1124</th>\n",
       "      <td>https://www.idealista.com/inmueble/95139267/</td>\n",
       "      <td>Piso en calle Médico Devesa Nuñez, 19, Someso ...</td>\n",
       "      <td>135000</td>\n",
       "      <td>NO</td>\n",
       "      <td>3</td>\n",
       "      <td>64</td>\n",
       "      <td>Someso - Matogrande</td>\n",
       "    </tr>\n",
       "  </tbody>\n",
       "</table>\n",
       "<p>1020 rows × 7 columns</p>\n",
       "</div>"
      ],
      "text/plain": [
       "                                                url  \\\n",
       "0     https://www.idealista.com/inmueble/106370978/   \n",
       "1      https://www.idealista.com/inmueble/97221042/   \n",
       "2     https://www.idealista.com/inmueble/105277913/   \n",
       "3     https://www.idealista.com/inmueble/105967967/   \n",
       "4     https://www.idealista.com/inmueble/105859017/   \n",
       "...                                             ...   \n",
       "1119  https://www.idealista.com/inmueble/104453354/   \n",
       "1120   https://www.idealista.com/inmueble/81928768/   \n",
       "1122  https://www.idealista.com/inmueble/101388147/   \n",
       "1123   https://www.idealista.com/inmueble/36223126/   \n",
       "1124   https://www.idealista.com/inmueble/95139267/   \n",
       "\n",
       "                                                address sale_price parking  \\\n",
       "0     Piso en avenida Hércules, Monte Alto - Zalaeta...     285000      NO   \n",
       "1     Dúplex en calle José Pascual López-Cortón, Som...     480000      SI   \n",
       "2     Piso en calle Ramón de la Sagra, Ensanche, a C...     460000      NO   \n",
       "3     Piso en calle Menéndez y Pelayo, Ensanche, a C...     550000      SI   \n",
       "4     Piso en calle Ría do Burgo, Someso - Matogrand...     170000      NO   \n",
       "...                                                 ...        ...     ...   \n",
       "1119  Piso en calle Tornos, 29, Sagrada Familia, a C...     150000      NO   \n",
       "1120  Piso en calle Vila de Negreira, 30, Agra del O...     160000      NO   \n",
       "1122  Piso en avenida Navarra, 5, Monte Alto - Zalae...     160000      NO   \n",
       "1123  Piso en avenida de Pedralonga, 57, Eirís, a Co...     179000      SI   \n",
       "1124  Piso en calle Médico Devesa Nuñez, 19, Someso ...     135000      NO   \n",
       "\n",
       "     rooms    m2                       district  \n",
       "0        2  100   Monte Alto - Zalaeta - Atocha  \n",
       "1        4  200             Someso - Matogrande  \n",
       "2        3  124                        Ensanche  \n",
       "3        5  160                        Ensanche  \n",
       "4        3   85             Someso - Matogrande  \n",
       "...    ...   ...                            ...  \n",
       "1119     3   58                 Sagrada Familia  \n",
       "1120     2   87    Agra del Orzán - Ventorrillo  \n",
       "1122     4   80   Monte Alto - Zalaeta - Atocha  \n",
       "1123     2   70                           Eirís  \n",
       "1124     3   64             Someso - Matogrande  \n",
       "\n",
       "[1020 rows x 7 columns]"
      ]
     },
     "execution_count": 269,
     "metadata": {},
     "output_type": "execute_result"
    }
   ],
   "source": [
    "df_properties"
   ]
  },
  {
   "cell_type": "markdown",
   "id": "d10a9d14-aa17-40d3-9051-a51f80ef97a4",
   "metadata": {},
   "source": [
    "**We continue with df_rental_sale**"
   ]
  },
  {
   "cell_type": "code",
   "execution_count": 270,
   "id": "6e37512f",
   "metadata": {},
   "outputs": [],
   "source": [
    "df_rental_sale.columns=['m2_sale_price','m2_rental_price']"
   ]
  },
  {
   "cell_type": "code",
   "execution_count": 271,
   "id": "dff09901-808f-48a7-8976-909d1be4b5f8",
   "metadata": {},
   "outputs": [],
   "source": [
    "df_rental_sale.m2_sale_price= df_rental_sale.m2_sale_price.str.replace(' €/m²','')"
   ]
  },
  {
   "cell_type": "code",
   "execution_count": 272,
   "id": "0d259d7c-e84a-4224-bc6d-1c099b054090",
   "metadata": {},
   "outputs": [],
   "source": [
    "df_rental_sale.m2_sale_price= df_rental_sale.m2_sale_price.str.replace('.','')"
   ]
  },
  {
   "cell_type": "code",
   "execution_count": 273,
   "id": "96ee0155-7067-446e-bc8e-ea1429647424",
   "metadata": {},
   "outputs": [],
   "source": [
    "df_rental_sale.m2_rental_price= df_rental_sale.m2_rental_price.str.replace(' €/m²','')"
   ]
  },
  {
   "cell_type": "code",
   "execution_count": 274,
   "id": "6cf44921-e8e0-4184-8d26-676df423efec",
   "metadata": {},
   "outputs": [],
   "source": [
    "df_rental_sale.m2_rental_price.iloc[0]=df_rental_sale.m2_rental_price.max()"
   ]
  },
  {
   "cell_type": "code",
   "execution_count": 275,
   "id": "0935656c-5ede-4788-a034-113259409245",
   "metadata": {},
   "outputs": [
    {
     "data": {
      "text/html": [
       "<div>\n",
       "<style scoped>\n",
       "    .dataframe tbody tr th:only-of-type {\n",
       "        vertical-align: middle;\n",
       "    }\n",
       "\n",
       "    .dataframe tbody tr th {\n",
       "        vertical-align: top;\n",
       "    }\n",
       "\n",
       "    .dataframe thead th {\n",
       "        text-align: right;\n",
       "    }\n",
       "</style>\n",
       "<table border=\"1\" class=\"dataframe\">\n",
       "  <thead>\n",
       "    <tr style=\"text-align: right;\">\n",
       "      <th></th>\n",
       "      <th>m2_sale_price</th>\n",
       "      <th>m2_rental_price</th>\n",
       "    </tr>\n",
       "    <tr>\n",
       "      <th>distrito</th>\n",
       "      <th></th>\n",
       "      <th></th>\n",
       "    </tr>\n",
       "  </thead>\n",
       "  <tbody>\n",
       "    <tr>\n",
       "      <th>Centro - Juan Flórez - Plaza Pontevedra</th>\n",
       "      <td>3590</td>\n",
       "      <td>14</td>\n",
       "    </tr>\n",
       "    <tr>\n",
       "      <th>Los Castros - Castrillón - Eiris</th>\n",
       "      <td>2246</td>\n",
       "      <td>11</td>\n",
       "    </tr>\n",
       "    <tr>\n",
       "      <th>Monte Alto - Zalaeta - Atocha</th>\n",
       "      <td>3422</td>\n",
       "      <td>12</td>\n",
       "    </tr>\n",
       "    <tr>\n",
       "      <th>Agra del Orzán - Ventorrillo - Vioño</th>\n",
       "      <td>2218</td>\n",
       "      <td>10</td>\n",
       "    </tr>\n",
       "    <tr>\n",
       "      <th>Someso - Matogrande</th>\n",
       "      <td>2457</td>\n",
       "      <td>11</td>\n",
       "    </tr>\n",
       "    <tr>\n",
       "      <th>Cuatro Caminos - Plaza de la Cubela</th>\n",
       "      <td>2535</td>\n",
       "      <td>13</td>\n",
       "    </tr>\n",
       "    <tr>\n",
       "      <th>Riazor - Los Rosales</th>\n",
       "      <td>3242</td>\n",
       "      <td>10</td>\n",
       "    </tr>\n",
       "    <tr>\n",
       "      <th>Os Mallos</th>\n",
       "      <td>2304</td>\n",
       "      <td>12</td>\n",
       "    </tr>\n",
       "    <tr>\n",
       "      <th>Ciudad Vieja</th>\n",
       "      <td>4521</td>\n",
       "      <td>14</td>\n",
       "    </tr>\n",
       "    <tr>\n",
       "      <th>Sagrada Familia</th>\n",
       "      <td>2207</td>\n",
       "      <td>12</td>\n",
       "    </tr>\n",
       "    <tr>\n",
       "      <th>Elviña - A Zapateira</th>\n",
       "      <td>2917</td>\n",
       "      <td>12</td>\n",
       "    </tr>\n",
       "    <tr>\n",
       "      <th>Vioño</th>\n",
       "      <td>2917</td>\n",
       "      <td>12</td>\n",
       "    </tr>\n",
       "    <tr>\n",
       "      <th>Mesoiro</th>\n",
       "      <td>2917</td>\n",
       "      <td>12</td>\n",
       "    </tr>\n",
       "  </tbody>\n",
       "</table>\n",
       "</div>"
      ],
      "text/plain": [
       "                                        m2_sale_price m2_rental_price\n",
       "distrito                                                             \n",
       "Centro - Juan Flórez - Plaza Pontevedra          3590              14\n",
       "Los Castros - Castrillón - Eiris                 2246              11\n",
       "Monte Alto - Zalaeta - Atocha                    3422              12\n",
       "Agra del Orzán - Ventorrillo - Vioño             2218              10\n",
       "Someso - Matogrande                              2457              11\n",
       "Cuatro Caminos - Plaza de la Cubela              2535              13\n",
       "Riazor - Los Rosales                             3242              10\n",
       "Os Mallos                                        2304              12\n",
       "Ciudad Vieja                                     4521              14\n",
       "Sagrada Familia                                  2207              12\n",
       "Elviña - A Zapateira                             2917              12\n",
       "Vioño                                            2917              12\n",
       "Mesoiro                                          2917              12"
      ]
     },
     "execution_count": 275,
     "metadata": {},
     "output_type": "execute_result"
    }
   ],
   "source": [
    "df_rental_sale"
   ]
  },
  {
   "cell_type": "code",
   "execution_count": 276,
   "id": "f10febb5-4249-4299-ab5a-d1ef3287e72e",
   "metadata": {},
   "outputs": [
    {
     "name": "stdout",
     "output_type": "stream",
     "text": [
      "<class 'pandas.core.frame.DataFrame'>\n",
      "Index: 13 entries, Centro - Juan Flórez - Plaza Pontevedra to Mesoiro\n",
      "Data columns (total 2 columns):\n",
      " #   Column           Non-Null Count  Dtype \n",
      "---  ------           --------------  ----- \n",
      " 0   m2_sale_price    13 non-null     object\n",
      " 1   m2_rental_price  13 non-null     object\n",
      "dtypes: object(2)\n",
      "memory usage: 312.0+ bytes\n"
     ]
    }
   ],
   "source": [
    "df_rental_sale.info()"
   ]
  },
  {
   "cell_type": "code",
   "execution_count": 277,
   "id": "4a498331-266b-498f-a950-509b7dc25793",
   "metadata": {},
   "outputs": [
    {
     "name": "stdout",
     "output_type": "stream",
     "text": [
      "<class 'pandas.core.frame.DataFrame'>\n",
      "Index: 1020 entries, 0 to 1124\n",
      "Data columns (total 7 columns):\n",
      " #   Column      Non-Null Count  Dtype \n",
      "---  ------      --------------  ----- \n",
      " 0   url         1020 non-null   object\n",
      " 1   address     1020 non-null   object\n",
      " 2   sale_price  1020 non-null   object\n",
      " 3   parking     1020 non-null   object\n",
      " 4   rooms       1020 non-null   object\n",
      " 5   m2          1020 non-null   object\n",
      " 6   district    1020 non-null   object\n",
      "dtypes: object(7)\n",
      "memory usage: 63.8+ KB\n"
     ]
    }
   ],
   "source": [
    "df_properties.info()"
   ]
  },
  {
   "cell_type": "markdown",
   "id": "bfa213aa",
   "metadata": {},
   "source": [
    "\n",
    "\n",
    "**Conclusion**: we convert the following variables to int:\n",
    "\n",
    "Properties: sale_price, rooms, m2\n",
    "\n",
    "Rental_sale: m2_sale_price, m2_rental_price\n",
    "\n"
   ]
  },
  {
   "cell_type": "code",
   "execution_count": 278,
   "id": "d3c38d48",
   "metadata": {},
   "outputs": [],
   "source": [
    "for variable in ['sale_price','rooms','m2']:\n",
    "    df_properties[variable] = df_properties[variable].astype('int64')"
   ]
  },
  {
   "cell_type": "code",
   "execution_count": 279,
   "id": "f1026f95-4a89-4fdd-b7e4-174784a74e85",
   "metadata": {},
   "outputs": [],
   "source": [
    "for variable in ['m2_sale_price','m2_rental_price']:\n",
    "    df_rental_sale[variable] = df_rental_sale[variable].astype('int64')"
   ]
  },
  {
   "cell_type": "markdown",
   "id": "3aabb93a",
   "metadata": {},
   "source": [
    "Check"
   ]
  },
  {
   "cell_type": "code",
   "execution_count": 280,
   "id": "99cedf2a",
   "metadata": {},
   "outputs": [
    {
     "name": "stdout",
     "output_type": "stream",
     "text": [
      "<class 'pandas.core.frame.DataFrame'>\n",
      "Index: 1020 entries, 0 to 1124\n",
      "Data columns (total 7 columns):\n",
      " #   Column      Non-Null Count  Dtype \n",
      "---  ------      --------------  ----- \n",
      " 0   url         1020 non-null   object\n",
      " 1   address     1020 non-null   object\n",
      " 2   sale_price  1020 non-null   int64 \n",
      " 3   parking     1020 non-null   object\n",
      " 4   rooms       1020 non-null   int64 \n",
      " 5   m2          1020 non-null   int64 \n",
      " 6   district    1020 non-null   object\n",
      "dtypes: int64(3), object(4)\n",
      "memory usage: 63.8+ KB\n"
     ]
    }
   ],
   "source": [
    "df_properties.info()"
   ]
  },
  {
   "cell_type": "code",
   "execution_count": 281,
   "id": "f9f157f5-53eb-4715-96f5-02783c8ce39c",
   "metadata": {},
   "outputs": [
    {
     "name": "stdout",
     "output_type": "stream",
     "text": [
      "<class 'pandas.core.frame.DataFrame'>\n",
      "Index: 13 entries, Centro - Juan Flórez - Plaza Pontevedra to Mesoiro\n",
      "Data columns (total 2 columns):\n",
      " #   Column           Non-Null Count  Dtype\n",
      "---  ------           --------------  -----\n",
      " 0   m2_sale_price    13 non-null     int64\n",
      " 1   m2_rental_price  13 non-null     int64\n",
      "dtypes: int64(2)\n",
      "memory usage: 312.0+ bytes\n"
     ]
    }
   ],
   "source": [
    "df_rental_sale.info()"
   ]
  },
  {
   "cell_type": "markdown",
   "id": "1b2aefe2",
   "metadata": {},
   "source": [
    "#### Analysis of nulls"
   ]
  },
  {
   "cell_type": "markdown",
   "id": "e15f58f1",
   "metadata": {},
   "source": [
    "From the Non-null column of the info(), we see that we have no nulls.\n",
    "\n",
    "However, in the n_rooms column of the properties dataframe, we have moved incorrect data to the m2 column and replaced the erroneous field with a 0.\n",
    "\n",
    "We will review the statistics grouped by district for the n_rooms column and reassign the \"nulls\" with the mean or median as we see fit."
   ]
  },
  {
   "cell_type": "code",
   "execution_count": 282,
   "id": "b3a6e40e",
   "metadata": {
    "scrolled": true
   },
   "outputs": [
    {
     "data": {
      "text/plain": [
       "{'Agra del Orzán - Ventorrillo': 3,\n",
       " 'Ciudad Vieja - Centro': 3,\n",
       " 'Cuatro Caminos - Plaza de la Cubela': 3,\n",
       " 'Eirís': 3,\n",
       " 'Elviña - a Zapateira': 3,\n",
       " 'Ensanche': 4,\n",
       " 'Falperra-Santa Lucía': 3,\n",
       " 'Juan Flórez-San Pablo': 4,\n",
       " 'Los Castros - Castrillón': 3,\n",
       " 'Mesoiro': 2,\n",
       " 'Monte Alto - Zalaeta - Atocha': 3,\n",
       " 'Os Mallos': 2,\n",
       " 'Paseo de los Puentes-Santa Margarita': 3,\n",
       " 'Riazor - Los Rosales': 3,\n",
       " 'Sagrada Familia': 3,\n",
       " 'Someso - Matogrande': 3,\n",
       " 'Vioño': 2}"
      ]
     },
     "execution_count": 282,
     "metadata": {},
     "output_type": "execute_result"
    }
   ],
   "source": [
    "mean_rooms_district= df_properties.loc[df_properties['rooms'] !=0].groupby('district')['rooms'].mean().round().astype('int64').to_dict()\n",
    "mean_rooms_district"
   ]
  },
  {
   "cell_type": "code",
   "execution_count": 283,
   "id": "afb672f3-6daf-4489-b749-252d1255b059",
   "metadata": {},
   "outputs": [],
   "source": [
    "def rooms(district):\n",
    "    return mean_rooms_district[district]"
   ]
  },
  {
   "cell_type": "code",
   "execution_count": 284,
   "id": "f0197a17-15b3-4ff8-8600-f2f6461fa26c",
   "metadata": {},
   "outputs": [],
   "source": [
    "df_properties.loc[df_properties['rooms'] ==0,'rooms']=df_properties.loc[df_properties['rooms'] ==0,'district'].apply(rooms)\n"
   ]
  },
  {
   "cell_type": "markdown",
   "id": "5d19fff9",
   "metadata": {},
   "source": [
    "#### Duplicated analysis"
   ]
  },
  {
   "cell_type": "markdown",
   "id": "fa683503",
   "metadata": {},
   "source": [
    "We check if there is some duplicated register."
   ]
  },
  {
   "cell_type": "code",
   "execution_count": 285,
   "id": "16d7bde3",
   "metadata": {},
   "outputs": [
    {
     "data": {
      "text/plain": [
       "2"
      ]
     },
     "execution_count": 285,
     "metadata": {},
     "output_type": "execute_result"
    }
   ],
   "source": [
    "df_rental_sale.duplicated().sum()"
   ]
  },
  {
   "cell_type": "code",
   "execution_count": 286,
   "id": "1b71d9e1-d4a5-44c7-a3af-6d4548390ad3",
   "metadata": {},
   "outputs": [
    {
     "data": {
      "text/plain": [
       "distrito\n",
       "Centro - Juan Flórez - Plaza Pontevedra    False\n",
       "Los Castros - Castrillón - Eiris           False\n",
       "Monte Alto - Zalaeta - Atocha              False\n",
       "Agra del Orzán - Ventorrillo - Vioño       False\n",
       "Someso - Matogrande                        False\n",
       "Cuatro Caminos - Plaza de la Cubela        False\n",
       "Riazor - Los Rosales                       False\n",
       "Os Mallos                                  False\n",
       "Ciudad Vieja                               False\n",
       "Sagrada Familia                            False\n",
       "Elviña - A Zapateira                       False\n",
       "Vioño                                       True\n",
       "Mesoiro                                     True\n",
       "dtype: bool"
      ]
     },
     "execution_count": 286,
     "metadata": {},
     "output_type": "execute_result"
    }
   ],
   "source": [
    "df_rental_sale.duplicated()"
   ]
  },
  {
   "cell_type": "markdown",
   "id": "2df8a736",
   "metadata": {},
   "source": [
    "#### Analysis of categorical variables"
   ]
  },
  {
   "cell_type": "markdown",
   "id": "238de3a2",
   "metadata": {},
   "source": [
    "We are going to analyze the values and frequencies of the categorical variables."
   ]
  },
  {
   "cell_type": "code",
   "execution_count": 287,
   "id": "e471979e",
   "metadata": {},
   "outputs": [
    {
     "data": {
      "text/html": [
       "<div>\n",
       "<style scoped>\n",
       "    .dataframe tbody tr th:only-of-type {\n",
       "        vertical-align: middle;\n",
       "    }\n",
       "\n",
       "    .dataframe tbody tr th {\n",
       "        vertical-align: top;\n",
       "    }\n",
       "\n",
       "    .dataframe thead th {\n",
       "        text-align: right;\n",
       "    }\n",
       "</style>\n",
       "<table border=\"1\" class=\"dataframe\">\n",
       "  <thead>\n",
       "    <tr style=\"text-align: right;\">\n",
       "      <th></th>\n",
       "      <th>url</th>\n",
       "      <th>address</th>\n",
       "      <th>parking</th>\n",
       "      <th>district</th>\n",
       "    </tr>\n",
       "  </thead>\n",
       "  <tbody>\n",
       "    <tr>\n",
       "      <th>0</th>\n",
       "      <td>https://www.idealista.com/inmueble/106370978/</td>\n",
       "      <td>Piso en avenida Hércules, Monte Alto - Zalaeta...</td>\n",
       "      <td>NO</td>\n",
       "      <td>Monte Alto - Zalaeta - Atocha</td>\n",
       "    </tr>\n",
       "    <tr>\n",
       "      <th>1</th>\n",
       "      <td>https://www.idealista.com/inmueble/97221042/</td>\n",
       "      <td>Dúplex en calle José Pascual López-Cortón, Som...</td>\n",
       "      <td>SI</td>\n",
       "      <td>Someso - Matogrande</td>\n",
       "    </tr>\n",
       "    <tr>\n",
       "      <th>2</th>\n",
       "      <td>https://www.idealista.com/inmueble/105277913/</td>\n",
       "      <td>Piso en calle Ramón de la Sagra, Ensanche, a C...</td>\n",
       "      <td>NO</td>\n",
       "      <td>Ensanche</td>\n",
       "    </tr>\n",
       "    <tr>\n",
       "      <th>3</th>\n",
       "      <td>https://www.idealista.com/inmueble/105967967/</td>\n",
       "      <td>Piso en calle Menéndez y Pelayo, Ensanche, a C...</td>\n",
       "      <td>SI</td>\n",
       "      <td>Ensanche</td>\n",
       "    </tr>\n",
       "    <tr>\n",
       "      <th>4</th>\n",
       "      <td>https://www.idealista.com/inmueble/105859017/</td>\n",
       "      <td>Piso en calle Ría do Burgo, Someso - Matogrand...</td>\n",
       "      <td>NO</td>\n",
       "      <td>Someso - Matogrande</td>\n",
       "    </tr>\n",
       "    <tr>\n",
       "      <th>...</th>\n",
       "      <td>...</td>\n",
       "      <td>...</td>\n",
       "      <td>...</td>\n",
       "      <td>...</td>\n",
       "    </tr>\n",
       "    <tr>\n",
       "      <th>1119</th>\n",
       "      <td>https://www.idealista.com/inmueble/104453354/</td>\n",
       "      <td>Piso en calle Tornos, 29, Sagrada Familia, a C...</td>\n",
       "      <td>NO</td>\n",
       "      <td>Sagrada Familia</td>\n",
       "    </tr>\n",
       "    <tr>\n",
       "      <th>1120</th>\n",
       "      <td>https://www.idealista.com/inmueble/81928768/</td>\n",
       "      <td>Piso en calle Vila de Negreira, 30, Agra del O...</td>\n",
       "      <td>NO</td>\n",
       "      <td>Agra del Orzán - Ventorrillo</td>\n",
       "    </tr>\n",
       "    <tr>\n",
       "      <th>1122</th>\n",
       "      <td>https://www.idealista.com/inmueble/101388147/</td>\n",
       "      <td>Piso en avenida Navarra, 5, Monte Alto - Zalae...</td>\n",
       "      <td>NO</td>\n",
       "      <td>Monte Alto - Zalaeta - Atocha</td>\n",
       "    </tr>\n",
       "    <tr>\n",
       "      <th>1123</th>\n",
       "      <td>https://www.idealista.com/inmueble/36223126/</td>\n",
       "      <td>Piso en avenida de Pedralonga, 57, Eirís, a Co...</td>\n",
       "      <td>SI</td>\n",
       "      <td>Eirís</td>\n",
       "    </tr>\n",
       "    <tr>\n",
       "      <th>1124</th>\n",
       "      <td>https://www.idealista.com/inmueble/95139267/</td>\n",
       "      <td>Piso en calle Médico Devesa Nuñez, 19, Someso ...</td>\n",
       "      <td>NO</td>\n",
       "      <td>Someso - Matogrande</td>\n",
       "    </tr>\n",
       "  </tbody>\n",
       "</table>\n",
       "<p>1020 rows × 4 columns</p>\n",
       "</div>"
      ],
      "text/plain": [
       "                                                url  \\\n",
       "0     https://www.idealista.com/inmueble/106370978/   \n",
       "1      https://www.idealista.com/inmueble/97221042/   \n",
       "2     https://www.idealista.com/inmueble/105277913/   \n",
       "3     https://www.idealista.com/inmueble/105967967/   \n",
       "4     https://www.idealista.com/inmueble/105859017/   \n",
       "...                                             ...   \n",
       "1119  https://www.idealista.com/inmueble/104453354/   \n",
       "1120   https://www.idealista.com/inmueble/81928768/   \n",
       "1122  https://www.idealista.com/inmueble/101388147/   \n",
       "1123   https://www.idealista.com/inmueble/36223126/   \n",
       "1124   https://www.idealista.com/inmueble/95139267/   \n",
       "\n",
       "                                                address parking  \\\n",
       "0     Piso en avenida Hércules, Monte Alto - Zalaeta...      NO   \n",
       "1     Dúplex en calle José Pascual López-Cortón, Som...      SI   \n",
       "2     Piso en calle Ramón de la Sagra, Ensanche, a C...      NO   \n",
       "3     Piso en calle Menéndez y Pelayo, Ensanche, a C...      SI   \n",
       "4     Piso en calle Ría do Burgo, Someso - Matogrand...      NO   \n",
       "...                                                 ...     ...   \n",
       "1119  Piso en calle Tornos, 29, Sagrada Familia, a C...      NO   \n",
       "1120  Piso en calle Vila de Negreira, 30, Agra del O...      NO   \n",
       "1122  Piso en avenida Navarra, 5, Monte Alto - Zalae...      NO   \n",
       "1123  Piso en avenida de Pedralonga, 57, Eirís, a Co...      SI   \n",
       "1124  Piso en calle Médico Devesa Nuñez, 19, Someso ...      NO   \n",
       "\n",
       "                           district  \n",
       "0     Monte Alto - Zalaeta - Atocha  \n",
       "1               Someso - Matogrande  \n",
       "2                          Ensanche  \n",
       "3                          Ensanche  \n",
       "4               Someso - Matogrande  \n",
       "...                             ...  \n",
       "1119                Sagrada Familia  \n",
       "1120   Agra del Orzán - Ventorrillo  \n",
       "1122  Monte Alto - Zalaeta - Atocha  \n",
       "1123                          Eirís  \n",
       "1124            Someso - Matogrande  \n",
       "\n",
       "[1020 rows x 4 columns]"
      ]
     },
     "execution_count": 287,
     "metadata": {},
     "output_type": "execute_result"
    }
   ],
   "source": [
    "df_properties.select_dtypes('O')"
   ]
  },
  {
   "cell_type": "code",
   "execution_count": 288,
   "id": "afc72a0a",
   "metadata": {},
   "outputs": [
    {
     "data": {
      "text/plain": [
       "parking\n",
       "NO    670\n",
       "SI    350\n",
       "Name: count, dtype: int64"
      ]
     },
     "execution_count": 288,
     "metadata": {},
     "output_type": "execute_result"
    }
   ],
   "source": [
    "df_properties.parking.value_counts()"
   ]
  },
  {
   "cell_type": "code",
   "execution_count": 289,
   "id": "2408944d-91ae-438f-a248-4ec978802660",
   "metadata": {},
   "outputs": [
    {
     "data": {
      "text/plain": [
       "district\n",
       "Agra del Orzán - Ventorrillo            119\n",
       "Monte Alto - Zalaeta - Atocha           115\n",
       "Los Castros - Castrillón                106\n",
       "Ensanche                                104\n",
       "Ciudad Vieja - Centro                    89\n",
       "Riazor - Los Rosales                     76\n",
       "Someso - Matogrande                      74\n",
       "Cuatro Caminos - Plaza de la Cubela      70\n",
       "Juan Flórez-San Pablo                    69\n",
       "Os Mallos                                51\n",
       "Sagrada Familia                          45\n",
       "Falperra-Santa Lucía                     36\n",
       "Eirís                                    35\n",
       "Vioño                                    11\n",
       "Elviña - a Zapateira                      8\n",
       "Paseo de los Puentes-Santa Margarita      7\n",
       "Mesoiro                                   5\n",
       "Name: count, dtype: int64"
      ]
     },
     "execution_count": 289,
     "metadata": {},
     "output_type": "execute_result"
    }
   ],
   "source": [
    "df_properties.district.value_counts()"
   ]
  },
  {
   "cell_type": "markdown",
   "id": "694e4135-601b-47fb-99d6-e43bbf56017e",
   "metadata": {},
   "source": [
    "**We do not find any unusual variable or counts that are out of the ordinary. We do not consider discarding any area..**"
   ]
  },
  {
   "cell_type": "markdown",
   "id": "e1b47de3",
   "metadata": {},
   "source": [
    "#### Analysis of numerical variables"
   ]
  },
  {
   "cell_type": "code",
   "execution_count": 290,
   "id": "4dbfd903",
   "metadata": {},
   "outputs": [
    {
     "data": {
      "text/html": [
       "<div>\n",
       "<style scoped>\n",
       "    .dataframe tbody tr th:only-of-type {\n",
       "        vertical-align: middle;\n",
       "    }\n",
       "\n",
       "    .dataframe tbody tr th {\n",
       "        vertical-align: top;\n",
       "    }\n",
       "\n",
       "    .dataframe thead th {\n",
       "        text-align: right;\n",
       "    }\n",
       "</style>\n",
       "<table border=\"1\" class=\"dataframe\">\n",
       "  <thead>\n",
       "    <tr style=\"text-align: right;\">\n",
       "      <th></th>\n",
       "      <th>count</th>\n",
       "      <th>mean</th>\n",
       "      <th>std</th>\n",
       "      <th>min</th>\n",
       "      <th>25%</th>\n",
       "      <th>50%</th>\n",
       "      <th>75%</th>\n",
       "      <th>max</th>\n",
       "    </tr>\n",
       "  </thead>\n",
       "  <tbody>\n",
       "    <tr>\n",
       "      <th>sale_price</th>\n",
       "      <td>1020.0</td>\n",
       "      <td>353365.277451</td>\n",
       "      <td>252897.970809</td>\n",
       "      <td>50600.0</td>\n",
       "      <td>190000.0</td>\n",
       "      <td>279500.0</td>\n",
       "      <td>462625.0</td>\n",
       "      <td>3603000.0</td>\n",
       "    </tr>\n",
       "    <tr>\n",
       "      <th>rooms</th>\n",
       "      <td>1020.0</td>\n",
       "      <td>3.009804</td>\n",
       "      <td>1.430737</td>\n",
       "      <td>1.0</td>\n",
       "      <td>2.0</td>\n",
       "      <td>3.0</td>\n",
       "      <td>4.0</td>\n",
       "      <td>28.0</td>\n",
       "    </tr>\n",
       "    <tr>\n",
       "      <th>m2</th>\n",
       "      <td>1020.0</td>\n",
       "      <td>117.789216</td>\n",
       "      <td>68.727632</td>\n",
       "      <td>28.0</td>\n",
       "      <td>79.0</td>\n",
       "      <td>105.5</td>\n",
       "      <td>140.0</td>\n",
       "      <td>1414.0</td>\n",
       "    </tr>\n",
       "  </tbody>\n",
       "</table>\n",
       "</div>"
      ],
      "text/plain": [
       "             count           mean            std      min       25%       50%  \\\n",
       "sale_price  1020.0  353365.277451  252897.970809  50600.0  190000.0  279500.0   \n",
       "rooms       1020.0       3.009804       1.430737      1.0       2.0       3.0   \n",
       "m2          1020.0     117.789216      68.727632     28.0      79.0     105.5   \n",
       "\n",
       "                 75%        max  \n",
       "sale_price  462625.0  3603000.0  \n",
       "rooms            4.0       28.0  \n",
       "m2             140.0     1414.0  "
      ]
     },
     "execution_count": 290,
     "metadata": {},
     "output_type": "execute_result"
    }
   ],
   "source": [
    "df_properties.select_dtypes(include='number').describe().T"
   ]
  },
  {
   "cell_type": "markdown",
   "id": "52d8c40c",
   "metadata": {},
   "source": [
    "Conclusions:\n",
    "\n",
    "* The minimums and maximums of the price need to be reviewed.\n",
    "* The maximums of n_rooms need to be checked. It is a bit strange that there are cases with 25 rooms. Take a look at the density graph.\n",
    "* Review the maximum square meters. It is an impossible value for an apartment and highly unlikely in the case of a house (are they taking the land into account?)."
   ]
  },
  {
   "cell_type": "markdown",
   "id": "6746e6e8",
   "metadata": {},
   "source": [
    "**Price**\n",
    "\n",
    "We check the price maximum and minimum."
   ]
  },
  {
   "cell_type": "code",
   "execution_count": 291,
   "id": "3c0c38d4",
   "metadata": {},
   "outputs": [
    {
     "data": {
      "image/png": "[encoded data removed]",
      "text/plain": [
       "<Figure size 640x480 with 1 Axes>"
      ]
     },
     "metadata": {},
     "output_type": "display_data"
    }
   ],
   "source": [
    "df_properties.sale_price.plot.kde();\n",
    "plt.show()"
   ]
  },
  {
   "cell_type": "markdown",
   "id": "1b49e32c",
   "metadata": {},
   "source": [
    "Revisamos los máximos"
   ]
  },
  {
   "cell_type": "code",
   "execution_count": 292,
   "id": "394c3f95",
   "metadata": {},
   "outputs": [
    {
     "data": {
      "image/png": "[encoded data removed]",
      "text/plain": [
       "<Figure size 1600x800 with 1 Axes>"
      ]
     },
     "metadata": {},
     "output_type": "display_data"
    }
   ],
   "source": [
    "plt.figure(figsize=(16,8))\n",
    "df_properties.sale_price.loc[df_properties.sale_price > 469500].value_counts().sort_index().plot.bar()\n",
    "plt.xticks(size = 10);\n",
    "plt.show()"
   ]
  },
  {
   "cell_type": "code",
   "execution_count": 293,
   "id": "5643e00a-c826-4674-b578-99bcacc2c791",
   "metadata": {},
   "outputs": [
    {
     "data": {
      "text/plain": [
       "array(['Ensanche', 'Ciudad Vieja - Centro'], dtype=object)"
      ]
     },
     "execution_count": 293,
     "metadata": {},
     "output_type": "execute_result"
    }
   ],
   "source": [
    "df_properties.loc[df_properties.sale_price > 1500000]['district'].unique()"
   ]
  },
  {
   "cell_type": "markdown",
   "id": "adbd8b06",
   "metadata": {},
   "source": [
    "Conclusion:\n",
    "\n",
    "* The high prices correspond to districts that have specific locations where they could fit. Prices above 1.5 million correspond to the areas of Ensanche and Ciudad Jardín, the most expensive in the city."
   ]
  },
  {
   "cell_type": "markdown",
   "id": "8a860d2d",
   "metadata": {},
   "source": [
    "We check the minimum."
   ]
  },
  {
   "cell_type": "code",
   "execution_count": 294,
   "id": "a2762824",
   "metadata": {},
   "outputs": [
    {
     "data": {
      "image/png": "[encoded data removed]",
      "text/plain": [
       "<Figure size 1600x800 with 1 Axes>"
      ]
     },
     "metadata": {},
     "output_type": "display_data"
    }
   ],
   "source": [
    "plt.figure(figsize=(16,8))\n",
    "df_properties.sale_price.loc[df_properties.sale_price < 185000].value_counts().sort_index().plot.bar()\n",
    "plt.xticks(size = 10);\n",
    "plt.show()"
   ]
  },
  {
   "cell_type": "code",
   "execution_count": 295,
   "id": "bc0ed22b-6b3f-4e88-bd09-42ea33691c59",
   "metadata": {},
   "outputs": [
    {
     "data": {
      "text/plain": [
       "array(['Eirís', 'Monte Alto - Zalaeta - Atocha', 'Juan Flórez-San Pablo'],\n",
       "      dtype=object)"
      ]
     },
     "execution_count": 295,
     "metadata": {},
     "output_type": "execute_result"
    }
   ],
   "source": [
    "df_properties.loc[df_properties.sale_price < 80000]['district'].unique()"
   ]
  },
  {
   "cell_type": "code",
   "execution_count": 296,
   "id": "897ed6ec-1c0d-4138-ae70-9d18a375329a",
   "metadata": {},
   "outputs": [
    {
     "data": {
      "text/html": [
       "<div>\n",
       "<style scoped>\n",
       "    .dataframe tbody tr th:only-of-type {\n",
       "        vertical-align: middle;\n",
       "    }\n",
       "\n",
       "    .dataframe tbody tr th {\n",
       "        vertical-align: top;\n",
       "    }\n",
       "\n",
       "    .dataframe thead th {\n",
       "        text-align: right;\n",
       "    }\n",
       "</style>\n",
       "<table border=\"1\" class=\"dataframe\">\n",
       "  <thead>\n",
       "    <tr style=\"text-align: right;\">\n",
       "      <th></th>\n",
       "      <th>url</th>\n",
       "      <th>address</th>\n",
       "      <th>sale_price</th>\n",
       "      <th>parking</th>\n",
       "      <th>rooms</th>\n",
       "      <th>m2</th>\n",
       "      <th>district</th>\n",
       "    </tr>\n",
       "  </thead>\n",
       "  <tbody>\n",
       "    <tr>\n",
       "      <th>1016</th>\n",
       "      <td>https://www.idealista.com/inmueble/102477442/</td>\n",
       "      <td>Piso en avenida Finisterre, Juan Flórez-San Pa...</td>\n",
       "      <td>50600</td>\n",
       "      <td>NO</td>\n",
       "      <td>1</td>\n",
       "      <td>113</td>\n",
       "      <td>Juan Flórez-San Pablo</td>\n",
       "    </tr>\n",
       "    <tr>\n",
       "      <th>1030</th>\n",
       "      <td>https://www.idealista.com/inmueble/105504644/</td>\n",
       "      <td>Piso en avenida Finisterre, Juan Flórez-San Pa...</td>\n",
       "      <td>50600</td>\n",
       "      <td>NO</td>\n",
       "      <td>1</td>\n",
       "      <td>113</td>\n",
       "      <td>Juan Flórez-San Pablo</td>\n",
       "    </tr>\n",
       "  </tbody>\n",
       "</table>\n",
       "</div>"
      ],
      "text/plain": [
       "                                                url  \\\n",
       "1016  https://www.idealista.com/inmueble/102477442/   \n",
       "1030  https://www.idealista.com/inmueble/105504644/   \n",
       "\n",
       "                                                address  sale_price parking  \\\n",
       "1016  Piso en avenida Finisterre, Juan Flórez-San Pa...       50600      NO   \n",
       "1030  Piso en avenida Finisterre, Juan Flórez-San Pa...       50600      NO   \n",
       "\n",
       "      rooms   m2               district  \n",
       "1016      1  113  Juan Flórez-San Pablo  \n",
       "1030      1  113  Juan Flórez-San Pablo  "
      ]
     },
     "execution_count": 296,
     "metadata": {},
     "output_type": "execute_result"
    }
   ],
   "source": [
    "df_properties.loc[(df_properties.sale_price < 80000) & (df_properties['district']=='Juan Flórez-San Pablo')]"
   ]
  },
  {
   "cell_type": "markdown",
   "id": "998eff0e",
   "metadata": {},
   "source": [
    "Conclusion:\n",
    "\n",
    "* The low prices correspond to districts with areas that fit within that range. Additionally, there are exceptions such as the records corresponding to Juan Flórez. These are properties with an abnormal ownership or legal situation. There is no way to automatically filter out these types of exceptions."
   ]
  },
  {
   "cell_type": "markdown",
   "id": "8b97daf4-35cd-4d69-b59c-8748143cd278",
   "metadata": {},
   "source": [
    "**Rooms**\n",
    "\n",
    "We check the rooms maximum and minimum."
   ]
  },
  {
   "cell_type": "code",
   "execution_count": 297,
   "id": "5f6b5b7f-822c-46a7-a0e6-87ca1d91456c",
   "metadata": {},
   "outputs": [
    {
     "data": {
      "image/png": "[encoded data removed]",
      "text/plain": [
       "<Figure size 640x480 with 1 Axes>"
      ]
     },
     "metadata": {},
     "output_type": "display_data"
    }
   ],
   "source": [
    "df_properties.rooms.plot.kde();\n",
    "plt.show()"
   ]
  },
  {
   "cell_type": "code",
   "execution_count": 298,
   "id": "d8328c4e-f789-46ee-8aee-66834738aa75",
   "metadata": {},
   "outputs": [
    {
     "data": {
      "image/png": "[encoded data removed]",
      "text/plain": [
       "<Figure size 640x480 with 1 Axes>"
      ]
     },
     "metadata": {},
     "output_type": "display_data"
    }
   ],
   "source": [
    "df_properties.rooms.value_counts(ascending=False).plot.bar();"
   ]
  },
  {
   "cell_type": "code",
   "execution_count": 299,
   "id": "c29e9cdc-3a9a-45fb-91a3-906db7c84f5c",
   "metadata": {},
   "outputs": [
    {
     "data": {
      "image/png": "[encoded data removed]",
      "text/plain": [
       "<Figure size 640x480 with 1 Axes>"
      ]
     },
     "metadata": {},
     "output_type": "display_data"
    }
   ],
   "source": [
    "df_properties.rooms.loc[df_properties.rooms >= 5].value_counts().sort_index().plot.bar()\n",
    "plt.xticks(size = 10);\n",
    "plt.show()"
   ]
  },
  {
   "cell_type": "code",
   "execution_count": 300,
   "id": "2c8a8439-3a46-422b-aa62-5314f20ac680",
   "metadata": {},
   "outputs": [
    {
     "data": {
      "image/png": "[encoded data removed]",
      "text/plain": [
       "<Figure size 1200x600 with 1 Axes>"
      ]
     },
     "metadata": {},
     "output_type": "display_data"
    }
   ],
   "source": [
    "df_properties.loc[df_properties.rooms >5 ][['rooms','m2']].plot.scatter(x='rooms',y='m2',figsize=(12,6));"
   ]
  },
  {
   "cell_type": "code",
   "execution_count": 301,
   "id": "f78a8cb5-838f-4086-a90e-90ea818ede9e",
   "metadata": {},
   "outputs": [
    {
     "data": {
      "text/html": [
       "<div>\n",
       "<style scoped>\n",
       "    .dataframe tbody tr th:only-of-type {\n",
       "        vertical-align: middle;\n",
       "    }\n",
       "\n",
       "    .dataframe tbody tr th {\n",
       "        vertical-align: top;\n",
       "    }\n",
       "\n",
       "    .dataframe thead th {\n",
       "        text-align: right;\n",
       "    }\n",
       "</style>\n",
       "<table border=\"1\" class=\"dataframe\">\n",
       "  <thead>\n",
       "    <tr style=\"text-align: right;\">\n",
       "      <th></th>\n",
       "      <th>rooms</th>\n",
       "      <th>m2</th>\n",
       "      <th>district</th>\n",
       "      <th>url</th>\n",
       "    </tr>\n",
       "  </thead>\n",
       "  <tbody>\n",
       "    <tr>\n",
       "      <th>9</th>\n",
       "      <td>6</td>\n",
       "      <td>273</td>\n",
       "      <td>Ciudad Vieja - Centro</td>\n",
       "      <td>https://www.idealista.com/inmueble/105321892/</td>\n",
       "    </tr>\n",
       "    <tr>\n",
       "      <th>990</th>\n",
       "      <td>6</td>\n",
       "      <td>180</td>\n",
       "      <td>Monte Alto - Zalaeta - Atocha</td>\n",
       "      <td>https://www.idealista.com/inmueble/105744038/</td>\n",
       "    </tr>\n",
       "    <tr>\n",
       "      <th>941</th>\n",
       "      <td>6</td>\n",
       "      <td>220</td>\n",
       "      <td>Ensanche</td>\n",
       "      <td>https://www.idealista.com/inmueble/104810745/</td>\n",
       "    </tr>\n",
       "    <tr>\n",
       "      <th>912</th>\n",
       "      <td>6</td>\n",
       "      <td>124</td>\n",
       "      <td>Cuatro Caminos - Plaza de la Cubela</td>\n",
       "      <td>https://www.idealista.com/inmueble/97347150/</td>\n",
       "    </tr>\n",
       "    <tr>\n",
       "      <th>795</th>\n",
       "      <td>6</td>\n",
       "      <td>273</td>\n",
       "      <td>Ciudad Vieja - Centro</td>\n",
       "      <td>https://www.idealista.com/inmueble/105423452/</td>\n",
       "    </tr>\n",
       "    <tr>\n",
       "      <th>731</th>\n",
       "      <td>6</td>\n",
       "      <td>273</td>\n",
       "      <td>Ciudad Vieja - Centro</td>\n",
       "      <td>https://www.idealista.com/inmueble/104617374/</td>\n",
       "    </tr>\n",
       "    <tr>\n",
       "      <th>696</th>\n",
       "      <td>6</td>\n",
       "      <td>275</td>\n",
       "      <td>Agra del Orzán - Ventorrillo</td>\n",
       "      <td>https://www.idealista.com/inmueble/104373308/</td>\n",
       "    </tr>\n",
       "    <tr>\n",
       "      <th>490</th>\n",
       "      <td>6</td>\n",
       "      <td>290</td>\n",
       "      <td>Juan Flórez-San Pablo</td>\n",
       "      <td>https://www.idealista.com/inmueble/91576267/</td>\n",
       "    </tr>\n",
       "    <tr>\n",
       "      <th>1050</th>\n",
       "      <td>6</td>\n",
       "      <td>160</td>\n",
       "      <td>Falperra-Santa Lucía</td>\n",
       "      <td>https://www.idealista.com/inmueble/106279093/</td>\n",
       "    </tr>\n",
       "    <tr>\n",
       "      <th>436</th>\n",
       "      <td>6</td>\n",
       "      <td>280</td>\n",
       "      <td>Ensanche</td>\n",
       "      <td>https://www.idealista.com/inmueble/105875530/</td>\n",
       "    </tr>\n",
       "    <tr>\n",
       "      <th>377</th>\n",
       "      <td>6</td>\n",
       "      <td>187</td>\n",
       "      <td>Juan Flórez-San Pablo</td>\n",
       "      <td>https://www.idealista.com/inmueble/96170201/</td>\n",
       "    </tr>\n",
       "    <tr>\n",
       "      <th>291</th>\n",
       "      <td>6</td>\n",
       "      <td>306</td>\n",
       "      <td>Sagrada Familia</td>\n",
       "      <td>https://www.idealista.com/inmueble/104137726/</td>\n",
       "    </tr>\n",
       "    <tr>\n",
       "      <th>108</th>\n",
       "      <td>6</td>\n",
       "      <td>220</td>\n",
       "      <td>Ensanche</td>\n",
       "      <td>https://www.idealista.com/inmueble/100817436/</td>\n",
       "    </tr>\n",
       "    <tr>\n",
       "      <th>439</th>\n",
       "      <td>6</td>\n",
       "      <td>360</td>\n",
       "      <td>Juan Flórez-San Pablo</td>\n",
       "      <td>https://www.idealista.com/inmueble/105985015/</td>\n",
       "    </tr>\n",
       "    <tr>\n",
       "      <th>493</th>\n",
       "      <td>7</td>\n",
       "      <td>259</td>\n",
       "      <td>Riazor - Los Rosales</td>\n",
       "      <td>https://www.idealista.com/inmueble/102631359/</td>\n",
       "    </tr>\n",
       "    <tr>\n",
       "      <th>565</th>\n",
       "      <td>7</td>\n",
       "      <td>187</td>\n",
       "      <td>Juan Flórez-San Pablo</td>\n",
       "      <td>https://www.idealista.com/inmueble/94619021/</td>\n",
       "    </tr>\n",
       "    <tr>\n",
       "      <th>631</th>\n",
       "      <td>8</td>\n",
       "      <td>184</td>\n",
       "      <td>Cuatro Caminos - Plaza de la Cubela</td>\n",
       "      <td>https://www.idealista.com/inmueble/104964778/</td>\n",
       "    </tr>\n",
       "    <tr>\n",
       "      <th>819</th>\n",
       "      <td>8</td>\n",
       "      <td>260</td>\n",
       "      <td>Ensanche</td>\n",
       "      <td>https://www.idealista.com/inmueble/104631735/</td>\n",
       "    </tr>\n",
       "    <tr>\n",
       "      <th>50</th>\n",
       "      <td>8</td>\n",
       "      <td>252</td>\n",
       "      <td>Ensanche</td>\n",
       "      <td>https://www.idealista.com/inmueble/105821620/</td>\n",
       "    </tr>\n",
       "    <tr>\n",
       "      <th>233</th>\n",
       "      <td>10</td>\n",
       "      <td>346</td>\n",
       "      <td>Juan Flórez-San Pablo</td>\n",
       "      <td>https://www.idealista.com/inmueble/102992815/</td>\n",
       "    </tr>\n",
       "    <tr>\n",
       "      <th>1033</th>\n",
       "      <td>12</td>\n",
       "      <td>252</td>\n",
       "      <td>Ensanche</td>\n",
       "      <td>https://www.idealista.com/inmueble/39502853/</td>\n",
       "    </tr>\n",
       "    <tr>\n",
       "      <th>36</th>\n",
       "      <td>12</td>\n",
       "      <td>250</td>\n",
       "      <td>Ensanche</td>\n",
       "      <td>https://www.idealista.com/inmueble/100780108/</td>\n",
       "    </tr>\n",
       "    <tr>\n",
       "      <th>547</th>\n",
       "      <td>28</td>\n",
       "      <td>1414</td>\n",
       "      <td>Ciudad Vieja - Centro</td>\n",
       "      <td>https://www.idealista.com/inmueble/106304353/</td>\n",
       "    </tr>\n",
       "  </tbody>\n",
       "</table>\n",
       "</div>"
      ],
      "text/plain": [
       "      rooms    m2                             district  \\\n",
       "9         6   273                Ciudad Vieja - Centro   \n",
       "990       6   180        Monte Alto - Zalaeta - Atocha   \n",
       "941       6   220                             Ensanche   \n",
       "912       6   124  Cuatro Caminos - Plaza de la Cubela   \n",
       "795       6   273                Ciudad Vieja - Centro   \n",
       "731       6   273                Ciudad Vieja - Centro   \n",
       "696       6   275         Agra del Orzán - Ventorrillo   \n",
       "490       6   290                Juan Flórez-San Pablo   \n",
       "1050      6   160                 Falperra-Santa Lucía   \n",
       "436       6   280                             Ensanche   \n",
       "377       6   187                Juan Flórez-San Pablo   \n",
       "291       6   306                      Sagrada Familia   \n",
       "108       6   220                             Ensanche   \n",
       "439       6   360                Juan Flórez-San Pablo   \n",
       "493       7   259                 Riazor - Los Rosales   \n",
       "565       7   187                Juan Flórez-San Pablo   \n",
       "631       8   184  Cuatro Caminos - Plaza de la Cubela   \n",
       "819       8   260                             Ensanche   \n",
       "50        8   252                             Ensanche   \n",
       "233      10   346                Juan Flórez-San Pablo   \n",
       "1033     12   252                             Ensanche   \n",
       "36       12   250                             Ensanche   \n",
       "547      28  1414                Ciudad Vieja - Centro   \n",
       "\n",
       "                                                url  \n",
       "9     https://www.idealista.com/inmueble/105321892/  \n",
       "990   https://www.idealista.com/inmueble/105744038/  \n",
       "941   https://www.idealista.com/inmueble/104810745/  \n",
       "912    https://www.idealista.com/inmueble/97347150/  \n",
       "795   https://www.idealista.com/inmueble/105423452/  \n",
       "731   https://www.idealista.com/inmueble/104617374/  \n",
       "696   https://www.idealista.com/inmueble/104373308/  \n",
       "490    https://www.idealista.com/inmueble/91576267/  \n",
       "1050  https://www.idealista.com/inmueble/106279093/  \n",
       "436   https://www.idealista.com/inmueble/105875530/  \n",
       "377    https://www.idealista.com/inmueble/96170201/  \n",
       "291   https://www.idealista.com/inmueble/104137726/  \n",
       "108   https://www.idealista.com/inmueble/100817436/  \n",
       "439   https://www.idealista.com/inmueble/105985015/  \n",
       "493   https://www.idealista.com/inmueble/102631359/  \n",
       "565    https://www.idealista.com/inmueble/94619021/  \n",
       "631   https://www.idealista.com/inmueble/104964778/  \n",
       "819   https://www.idealista.com/inmueble/104631735/  \n",
       "50    https://www.idealista.com/inmueble/105821620/  \n",
       "233   https://www.idealista.com/inmueble/102992815/  \n",
       "1033   https://www.idealista.com/inmueble/39502853/  \n",
       "36    https://www.idealista.com/inmueble/100780108/  \n",
       "547   https://www.idealista.com/inmueble/106304353/  "
      ]
     },
     "execution_count": 301,
     "metadata": {},
     "output_type": "execute_result"
    }
   ],
   "source": [
    "df_properties.loc[df_properties.rooms >5 ][['rooms','m2','district','url']].sort_values(by='rooms')"
   ]
  },
  {
   "cell_type": "markdown",
   "id": "4527af27-483a-4bec-8607-3277e60a7662",
   "metadata": {},
   "source": [
    "Conclusion:\n",
    "\n",
    "* The high number of rooms corresponds to apartments with many square meters, houses in the outskirts, or buildings. Initially, we do not pay too much attention to this because typically the most atypical cases correspond to purchase prices that exceed the investment limits of a middle-low class individual."
   ]
  },
  {
   "cell_type": "markdown",
   "id": "334c466e-bf81-4b82-8a20-77c7c1185f84",
   "metadata": {},
   "source": [
    "**m2**"
   ]
  },
  {
   "cell_type": "markdown",
   "id": "8d55eb23-8221-4556-a639-9b2b37b438d4",
   "metadata": {},
   "source": [
    "We check the maximum."
   ]
  },
  {
   "cell_type": "code",
   "execution_count": 302,
   "id": "ec923447-fd5e-4fd8-a955-3c7e9fd0c5a4",
   "metadata": {},
   "outputs": [
    {
     "data": {
      "image/png": "[encoded data removed]",
      "text/plain": [
       "<Figure size 640x480 with 1 Axes>"
      ]
     },
     "metadata": {},
     "output_type": "display_data"
    }
   ],
   "source": [
    "df_properties.m2.plot.kde();"
   ]
  },
  {
   "cell_type": "code",
   "execution_count": 303,
   "id": "bbef6458-b5c6-4833-b97e-7963008fe619",
   "metadata": {},
   "outputs": [
    {
     "data": {
      "image/png": "[encoded data removed]",
      "text/plain": [
       "<Figure size 640x480 with 1 Axes>"
      ]
     },
     "metadata": {},
     "output_type": "display_data"
    }
   ],
   "source": [
    "df_properties.loc[df_properties.m2 >500 ].m2.value_counts(ascending=False).plot.bar();"
   ]
  },
  {
   "cell_type": "markdown",
   "id": "a2a07040-1c22-43bb-928f-0a34d5540b74",
   "metadata": {},
   "source": [
    "Conclusion:\n",
    "\n",
    "* The high number of square meters aligns with the type of properties: spacious apartments in old areas of the city or houses. The atypical value of 1500 m2 corresponds to two contiguous buildings advertised together. Just like in the analysis of the number of rooms, these correspond to properties with a sale price that falls outside the investment range of a middle-low class individual."
   ]
  },
  {
   "cell_type": "markdown",
   "id": "67bea93a",
   "metadata": {},
   "source": [
    "## ANALYTIC DATAMART"
   ]
  },
  {
   "cell_type": "markdown",
   "id": "26c7e0c5",
   "metadata": {},
   "source": [
    "We have 2 main tables:\n",
    "\n",
    "* df_properties\n",
    "* df_rental_sale\n",
    "\n",
    "And we know that both share the district field, so we can merge them on that.\n",
    "\n",
    "The main table is df_properties, as the detail table provides us with additional data.\n",
    "\n",
    "Therefore, the table that should lead in the integration is df_properties.\n",
    "\n",
    "The only hurdle is that the districts in the rental/sale table do not match those in the properties table. We need to build an intermediate dictionary and reassign values to a new temporary variable to perform the merge. We will subsequently delete this variable."
   ]
  },
  {
   "cell_type": "code",
   "execution_count": 304,
   "id": "b3cec032-ee0a-4cab-9517-496f9107e034",
   "metadata": {},
   "outputs": [],
   "source": [
    "dicc_districts={'Someso - Matogrande':'Someso - Matogrande',\n",
    "'Ensanche':'Centro - Juan Flórez - Plaza Pontevedra',\n",
    "'Ciudad Vieja - Centro':'Ciudad Vieja',\n",
    "'Riazor - Los Rosales':'Riazor - Los Rosales',\n",
    "'Cuatro Caminos - Plaza de la Cubela':'Cuatro Caminos - Plaza de la Cubela',\n",
    "'Elviña - a Zapateira':'Elviña - A Zapateira',\n",
    "'Juan Flórez-San Pablo':'Centro - Juan Flórez - Plaza Pontevedra',\n",
    "'Agra del Orzán - Ventorrillo':'Agra del Orzán - Ventorrillo - Vioño',\n",
    "'Monte Alto - Zalaeta - Atocha':'Monte Alto - Zalaeta - Atocha',\n",
    "'Sagrada Familia':'Sagrada Familia',\n",
    "'Los Castros - Castrillón':'Los Castros - Castrillón - Eiris',\n",
    "'Vioño':'Vioño',\n",
    "'Eirís':'Los Castros - Castrillón - Eiris',\n",
    "'Os Mallos':'Os Mallos',\n",
    "'Falperra-Santa Lucía':'Centro - Juan Flórez - Plaza Pontevedra',\n",
    "'Mesoiro':'Mesoiro',\n",
    "'Ciudad Jardín':'Centro - Juan Flórez - Plaza Pontevedra',\n",
    "'Paseo de los Puentes-Santa Margarita':'Centro - Juan Flórez - Plaza Pontevedra'\n",
    "}"
   ]
  },
  {
   "cell_type": "code",
   "execution_count": 305,
   "id": "25f4fd77-2f23-4ca3-9c9e-1daf41a2ebef",
   "metadata": {},
   "outputs": [],
   "source": [
    "df_properties['district_merge']=df_properties.district.map(dicc_districts)"
   ]
  },
  {
   "cell_type": "code",
   "execution_count": 306,
   "id": "93361d34-8616-4b7a-82d9-9b119150e69b",
   "metadata": {},
   "outputs": [
    {
     "data": {
      "text/html": [
       "<div>\n",
       "<style scoped>\n",
       "    .dataframe tbody tr th:only-of-type {\n",
       "        vertical-align: middle;\n",
       "    }\n",
       "\n",
       "    .dataframe tbody tr th {\n",
       "        vertical-align: top;\n",
       "    }\n",
       "\n",
       "    .dataframe thead th {\n",
       "        text-align: right;\n",
       "    }\n",
       "</style>\n",
       "<table border=\"1\" class=\"dataframe\">\n",
       "  <thead>\n",
       "    <tr style=\"text-align: right;\">\n",
       "      <th></th>\n",
       "      <th>url</th>\n",
       "      <th>address</th>\n",
       "      <th>sale_price</th>\n",
       "      <th>parking</th>\n",
       "      <th>rooms</th>\n",
       "      <th>m2</th>\n",
       "      <th>district</th>\n",
       "      <th>district_merge</th>\n",
       "      <th>m2_sale_price</th>\n",
       "      <th>m2_rental_price</th>\n",
       "    </tr>\n",
       "  </thead>\n",
       "  <tbody>\n",
       "    <tr>\n",
       "      <th>0</th>\n",
       "      <td>https://www.idealista.com/inmueble/106370978/</td>\n",
       "      <td>Piso en avenida Hércules, Monte Alto - Zalaeta...</td>\n",
       "      <td>285000</td>\n",
       "      <td>NO</td>\n",
       "      <td>2</td>\n",
       "      <td>100</td>\n",
       "      <td>Monte Alto - Zalaeta - Atocha</td>\n",
       "      <td>Monte Alto - Zalaeta - Atocha</td>\n",
       "      <td>3422</td>\n",
       "      <td>12</td>\n",
       "    </tr>\n",
       "    <tr>\n",
       "      <th>1</th>\n",
       "      <td>https://www.idealista.com/inmueble/97221042/</td>\n",
       "      <td>Dúplex en calle José Pascual López-Cortón, Som...</td>\n",
       "      <td>480000</td>\n",
       "      <td>SI</td>\n",
       "      <td>4</td>\n",
       "      <td>200</td>\n",
       "      <td>Someso - Matogrande</td>\n",
       "      <td>Someso - Matogrande</td>\n",
       "      <td>2457</td>\n",
       "      <td>11</td>\n",
       "    </tr>\n",
       "    <tr>\n",
       "      <th>2</th>\n",
       "      <td>https://www.idealista.com/inmueble/105277913/</td>\n",
       "      <td>Piso en calle Ramón de la Sagra, Ensanche, a C...</td>\n",
       "      <td>460000</td>\n",
       "      <td>NO</td>\n",
       "      <td>3</td>\n",
       "      <td>124</td>\n",
       "      <td>Ensanche</td>\n",
       "      <td>Centro - Juan Flórez - Plaza Pontevedra</td>\n",
       "      <td>3590</td>\n",
       "      <td>14</td>\n",
       "    </tr>\n",
       "    <tr>\n",
       "      <th>3</th>\n",
       "      <td>https://www.idealista.com/inmueble/105967967/</td>\n",
       "      <td>Piso en calle Menéndez y Pelayo, Ensanche, a C...</td>\n",
       "      <td>550000</td>\n",
       "      <td>SI</td>\n",
       "      <td>5</td>\n",
       "      <td>160</td>\n",
       "      <td>Ensanche</td>\n",
       "      <td>Centro - Juan Flórez - Plaza Pontevedra</td>\n",
       "      <td>3590</td>\n",
       "      <td>14</td>\n",
       "    </tr>\n",
       "    <tr>\n",
       "      <th>4</th>\n",
       "      <td>https://www.idealista.com/inmueble/105859017/</td>\n",
       "      <td>Piso en calle Ría do Burgo, Someso - Matogrand...</td>\n",
       "      <td>170000</td>\n",
       "      <td>NO</td>\n",
       "      <td>3</td>\n",
       "      <td>85</td>\n",
       "      <td>Someso - Matogrande</td>\n",
       "      <td>Someso - Matogrande</td>\n",
       "      <td>2457</td>\n",
       "      <td>11</td>\n",
       "    </tr>\n",
       "    <tr>\n",
       "      <th>...</th>\n",
       "      <td>...</td>\n",
       "      <td>...</td>\n",
       "      <td>...</td>\n",
       "      <td>...</td>\n",
       "      <td>...</td>\n",
       "      <td>...</td>\n",
       "      <td>...</td>\n",
       "      <td>...</td>\n",
       "      <td>...</td>\n",
       "      <td>...</td>\n",
       "    </tr>\n",
       "    <tr>\n",
       "      <th>1119</th>\n",
       "      <td>https://www.idealista.com/inmueble/104453354/</td>\n",
       "      <td>Piso en calle Tornos, 29, Sagrada Familia, a C...</td>\n",
       "      <td>150000</td>\n",
       "      <td>NO</td>\n",
       "      <td>3</td>\n",
       "      <td>58</td>\n",
       "      <td>Sagrada Familia</td>\n",
       "      <td>Sagrada Familia</td>\n",
       "      <td>2207</td>\n",
       "      <td>12</td>\n",
       "    </tr>\n",
       "    <tr>\n",
       "      <th>1120</th>\n",
       "      <td>https://www.idealista.com/inmueble/81928768/</td>\n",
       "      <td>Piso en calle Vila de Negreira, 30, Agra del O...</td>\n",
       "      <td>160000</td>\n",
       "      <td>NO</td>\n",
       "      <td>2</td>\n",
       "      <td>87</td>\n",
       "      <td>Agra del Orzán - Ventorrillo</td>\n",
       "      <td>Agra del Orzán - Ventorrillo - Vioño</td>\n",
       "      <td>2218</td>\n",
       "      <td>10</td>\n",
       "    </tr>\n",
       "    <tr>\n",
       "      <th>1122</th>\n",
       "      <td>https://www.idealista.com/inmueble/101388147/</td>\n",
       "      <td>Piso en avenida Navarra, 5, Monte Alto - Zalae...</td>\n",
       "      <td>160000</td>\n",
       "      <td>NO</td>\n",
       "      <td>4</td>\n",
       "      <td>80</td>\n",
       "      <td>Monte Alto - Zalaeta - Atocha</td>\n",
       "      <td>Monte Alto - Zalaeta - Atocha</td>\n",
       "      <td>3422</td>\n",
       "      <td>12</td>\n",
       "    </tr>\n",
       "    <tr>\n",
       "      <th>1123</th>\n",
       "      <td>https://www.idealista.com/inmueble/36223126/</td>\n",
       "      <td>Piso en avenida de Pedralonga, 57, Eirís, a Co...</td>\n",
       "      <td>179000</td>\n",
       "      <td>SI</td>\n",
       "      <td>2</td>\n",
       "      <td>70</td>\n",
       "      <td>Eirís</td>\n",
       "      <td>Los Castros - Castrillón - Eiris</td>\n",
       "      <td>2246</td>\n",
       "      <td>11</td>\n",
       "    </tr>\n",
       "    <tr>\n",
       "      <th>1124</th>\n",
       "      <td>https://www.idealista.com/inmueble/95139267/</td>\n",
       "      <td>Piso en calle Médico Devesa Nuñez, 19, Someso ...</td>\n",
       "      <td>135000</td>\n",
       "      <td>NO</td>\n",
       "      <td>3</td>\n",
       "      <td>64</td>\n",
       "      <td>Someso - Matogrande</td>\n",
       "      <td>Someso - Matogrande</td>\n",
       "      <td>2457</td>\n",
       "      <td>11</td>\n",
       "    </tr>\n",
       "  </tbody>\n",
       "</table>\n",
       "<p>1020 rows × 10 columns</p>\n",
       "</div>"
      ],
      "text/plain": [
       "                                                url  \\\n",
       "0     https://www.idealista.com/inmueble/106370978/   \n",
       "1      https://www.idealista.com/inmueble/97221042/   \n",
       "2     https://www.idealista.com/inmueble/105277913/   \n",
       "3     https://www.idealista.com/inmueble/105967967/   \n",
       "4     https://www.idealista.com/inmueble/105859017/   \n",
       "...                                             ...   \n",
       "1119  https://www.idealista.com/inmueble/104453354/   \n",
       "1120   https://www.idealista.com/inmueble/81928768/   \n",
       "1122  https://www.idealista.com/inmueble/101388147/   \n",
       "1123   https://www.idealista.com/inmueble/36223126/   \n",
       "1124   https://www.idealista.com/inmueble/95139267/   \n",
       "\n",
       "                                                address  sale_price parking  \\\n",
       "0     Piso en avenida Hércules, Monte Alto - Zalaeta...      285000      NO   \n",
       "1     Dúplex en calle José Pascual López-Cortón, Som...      480000      SI   \n",
       "2     Piso en calle Ramón de la Sagra, Ensanche, a C...      460000      NO   \n",
       "3     Piso en calle Menéndez y Pelayo, Ensanche, a C...      550000      SI   \n",
       "4     Piso en calle Ría do Burgo, Someso - Matogrand...      170000      NO   \n",
       "...                                                 ...         ...     ...   \n",
       "1119  Piso en calle Tornos, 29, Sagrada Familia, a C...      150000      NO   \n",
       "1120  Piso en calle Vila de Negreira, 30, Agra del O...      160000      NO   \n",
       "1122  Piso en avenida Navarra, 5, Monte Alto - Zalae...      160000      NO   \n",
       "1123  Piso en avenida de Pedralonga, 57, Eirís, a Co...      179000      SI   \n",
       "1124  Piso en calle Médico Devesa Nuñez, 19, Someso ...      135000      NO   \n",
       "\n",
       "      rooms   m2                       district  \\\n",
       "0         2  100  Monte Alto - Zalaeta - Atocha   \n",
       "1         4  200            Someso - Matogrande   \n",
       "2         3  124                       Ensanche   \n",
       "3         5  160                       Ensanche   \n",
       "4         3   85            Someso - Matogrande   \n",
       "...     ...  ...                            ...   \n",
       "1119      3   58                Sagrada Familia   \n",
       "1120      2   87   Agra del Orzán - Ventorrillo   \n",
       "1122      4   80  Monte Alto - Zalaeta - Atocha   \n",
       "1123      2   70                          Eirís   \n",
       "1124      3   64            Someso - Matogrande   \n",
       "\n",
       "                               district_merge  m2_sale_price  m2_rental_price  \n",
       "0               Monte Alto - Zalaeta - Atocha           3422               12  \n",
       "1                         Someso - Matogrande           2457               11  \n",
       "2     Centro - Juan Flórez - Plaza Pontevedra           3590               14  \n",
       "3     Centro - Juan Flórez - Plaza Pontevedra           3590               14  \n",
       "4                         Someso - Matogrande           2457               11  \n",
       "...                                       ...            ...              ...  \n",
       "1119                          Sagrada Familia           2207               12  \n",
       "1120     Agra del Orzán - Ventorrillo - Vioño           2218               10  \n",
       "1122            Monte Alto - Zalaeta - Atocha           3422               12  \n",
       "1123         Los Castros - Castrillón - Eiris           2246               11  \n",
       "1124                      Someso - Matogrande           2457               11  \n",
       "\n",
       "[1020 rows x 10 columns]"
      ]
     },
     "execution_count": 306,
     "metadata": {},
     "output_type": "execute_result"
    }
   ],
   "source": [
    "df_properties=df_properties.merge(right=df_rental_sale,how='left',left_on='district_merge',right_index=True)\n",
    "df_properties"
   ]
  },
  {
   "cell_type": "code",
   "execution_count": 307,
   "id": "4c9d3863-3a3a-455e-83be-9ef50157b90b",
   "metadata": {},
   "outputs": [],
   "source": [
    "df_properties.drop(columns='district_merge',inplace=True)"
   ]
  },
  {
   "cell_type": "markdown",
   "id": "f4e17a29",
   "metadata": {},
   "source": [
    "## SAVE IN A PICKLE FILE"
   ]
  },
  {
   "cell_type": "markdown",
   "id": "68b4790d",
   "metadata": {},
   "source": [
    "Now that we have the analysis table, we are going to save it in a pickle file so that whenever we want to perform analysis, we don’t have to repeat all the processing from this notebook."
   ]
  },
  {
   "cell_type": "code",
   "execution_count": 308,
   "id": "e780280d-bab6-4a20-8ae7-7a0165d068e8",
   "metadata": {},
   "outputs": [],
   "source": [
    "data_file_name='df_properties_final.pickle'"
   ]
  },
  {
   "cell_type": "code",
   "execution_count": 309,
   "id": "bf8ae2a6-04de-4e51-9216-d10a48c796bb",
   "metadata": {},
   "outputs": [],
   "source": [
    "path= '../../02_Data/02_Work/' + data_file_name"
   ]
  },
  {
   "cell_type": "code",
   "execution_count": 310,
   "id": "8ee8a6e0",
   "metadata": {},
   "outputs": [],
   "source": [
    "df_properties.to_pickle(path)"
   ]
  }
 ],
 "metadata": {
  "kernelspec": {
   "display_name": "Python 3 (ipykernel)",
   "language": "python",
   "name": "python3"
  },
  "language_info": {
   "codemirror_mode": {
    "name": "ipython",
    "version": 3
   },
   "file_extension": ".py",
   "mimetype": "text/x-python",
   "name": "python",
   "nbconvert_exporter": "python",
   "pygments_lexer": "ipython3",
   "version": "3.12.3"
  },
  "toc": {
   "base_numbering": 1,
   "nav_menu": {},
   "number_sections": true,
   "sideBar": true,
   "skip_h1_title": false,
   "title_cell": "Table of Contents",
   "title_sidebar": "Contents",
   "toc_cell": false,
   "toc_position": {
    "height": "calc(100% - 180px)",
    "left": "10px",
    "top": "150px",
    "width": "352px"
   },
   "toc_section_display": true,
   "toc_window_display": true
  },
  "varInspector": {
   "cols": {
    "lenName": 16,
    "lenType": 16,
    "lenVar": 40
   },
   "kernels_config": {
    "python": {
     "delete_cmd_postfix": "",
     "delete_cmd_prefix": "del ",
     "library": "var_list.py",
     "varRefreshCmd": "print(var_dic_list())"
    },
    "r": {
     "delete_cmd_postfix": ") ",
     "delete_cmd_prefix": "rm(",
     "library": "var_list.r",
     "varRefreshCmd": "cat(var_dic_list()) "
    }
   },
   "position": {
    "height": "574.617px",
    "left": "1562px",
    "right": "20px",
    "top": "131px",
    "width": "350px"
   },
   "types_to_exclude": [
    "module",
    "function",
    "builtin_function_or_method",
    "instance",
    "_Feature"
   ],
   "window_display": false
  }
 },
 "nbformat": 4,
 "nbformat_minor": 5
}
