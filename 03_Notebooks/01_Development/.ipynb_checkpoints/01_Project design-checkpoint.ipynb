{
 "cells": [
  {
   "cell_type": "markdown",
   "id": "65619eaf",
   "metadata": {},
   "source": [
    "# PROJECT DESIGN"
   ]
  },
  {
   "cell_type": "markdown",
   "id": "f1a9a140",
   "metadata": {},
   "source": [
    "## OBJECTIVE"
   ]
  },
  {
   "cell_type": "markdown",
   "id": "2f54133f",
   "metadata": {},
   "source": [
    "* Identify the districts with the highest average net return percentage and the highest absolute value of average net return.\n",
    "\n",
    "* Filter the list of available apartments according to X criteria for profitability, maximum investment allowed, and investment payback period."
   ]
  },
  {
   "cell_type": "markdown",
   "id": "8fb8aca2",
   "metadata": {},
   "source": [
    "## DRIVERS"
   ]
  },
  {
   "cell_type": "markdown",
   "id": "d9380334",
   "metadata": {},
   "source": [
    "The levers that have the greatest impact on the profitability of this type of investment are:\n",
    "\n",
    "* **Rental price**: the higher the monthly rent, the greater the profitability.\n",
    "* **Purchase price**: the lower the purchase price, the higher the profitability.\n",
    "* **Initial investment amount**: the lower the initial investment, the easier it is to acquire the property."
   ]
  },
  {
   "cell_type": "markdown",
   "id": "d321de30",
   "metadata": {},
   "source": [
    "## KPIs"
   ]
  },
  {
   "cell_type": "markdown",
   "id": "dc75cf61",
   "metadata": {},
   "source": [
    "In this example, the KPIs are fairly straightforward:\n",
    "\n",
    "* We’ll measure **average net profitability** as the difference between the property sale price and the annual rental return.\n",
    "\n",
    "* We’ll measure the **average rental price** as the average price per square meter in the district, multiplied by the average square meters of properties for sale.\n",
    "\n",
    "* We’ll measure the **average sale price** by multiplying the average price per square meter in the district by the average square meters in the area, applying a 15% discount to the official price due to the usual overpricing on property listing platforms."
   ]
  },
  {
   "cell_type": "markdown",
   "id": "28a6275a",
   "metadata": {},
   "source": [
    "## ENTITIES AND DATA"
   ]
  },
  {
   "cell_type": "markdown",
   "id": "43bda11d",
   "metadata": {},
   "source": [
    "The relevant entities for our objective, for which we can obtain data, are:\n",
    "\n",
    "* Properties\n",
    "* Districts"
   ]
  },
  {
   "cell_type": "markdown",
   "id": "80de46d9",
   "metadata": {},
   "source": [
    "## SEED QUESTIONS"
   ]
  },
  {
   "cell_type": "markdown",
   "id": "d8fd1d3e",
   "metadata": {},
   "source": [
    "About rental prices:\n",
    "\n",
    "* What is the average price? What is the price range? What about by districts? And by neighborhoods?\n",
    "* What is the ranking of districts and neighborhoods by average rental price?\n",
    "* What factors, aside from location, determine rental price? Do square meters influence it? Does the number of rooms influence it?\n",
    "* What is the relationship between the size of the property and the price at which it can be rented?\n",
    "* How does competition (number of available properties per neighborhood) affect rental prices?\n",
    "\n",
    "\n",
    "About purchase prices:\n",
    "\n",
    "* What is the ranking of price per square meter by district?\n",
    "* What is the ranking of property prices (square meters * average size) by district?\n",
    "* What is the relationship between property price and rental price by district?\n",
    "* What factors, aside from location, determine the purchase price? Do square meters influence it? Does the number of rooms influence it?\n",
    "\n",
    "\n",
    "About profitability:\n",
    "\n",
    "* What is the ranking of profitability per square meter by district?\n",
    "* What is the ranking of the relationship between profitability and property price by district?\n",
    "* What factors, aside from location, determine profitability? Do square meters influence it? Does the number of rooms influence it?"
   ]
  }
 ],
 "metadata": {
  "kernelspec": {
   "display_name": "Python 3 (ipykernel)",
   "language": "python",
   "name": "python3"
  },
  "language_info": {
   "codemirror_mode": {
    "name": "ipython",
    "version": 3
   },
   "file_extension": ".py",
   "mimetype": "text/x-python",
   "name": "python",
   "nbconvert_exporter": "python",
   "pygments_lexer": "ipython3",
   "version": "3.12.3"
  },
  "toc": {
   "base_numbering": 1,
   "nav_menu": {},
   "number_sections": true,
   "sideBar": true,
   "skip_h1_title": false,
   "title_cell": "Table of Contents",
   "title_sidebar": "Contents",
   "toc_cell": false,
   "toc_position": {},
   "toc_section_display": true,
   "toc_window_display": true
  },
  "varInspector": {
   "cols": {
    "lenName": 16,
    "lenType": 16,
    "lenVar": 40
   },
   "kernels_config": {
    "python": {
     "delete_cmd_postfix": "",
     "delete_cmd_prefix": "del ",
     "library": "var_list.py",
     "varRefreshCmd": "print(var_dic_list())"
    },
    "r": {
     "delete_cmd_postfix": ") ",
     "delete_cmd_prefix": "rm(",
     "library": "var_list.r",
     "varRefreshCmd": "cat(var_dic_list()) "
    }
   },
   "types_to_exclude": [
    "module",
    "function",
    "builtin_function_or_method",
    "instance",
    "_Feature"
   ],
   "window_display": false
  }
 },
 "nbformat": 4,
 "nbformat_minor": 5
}
