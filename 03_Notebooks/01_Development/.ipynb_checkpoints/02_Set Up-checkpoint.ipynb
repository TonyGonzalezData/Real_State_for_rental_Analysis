{
 "cells": [
  {
   "cell_type": "markdown",
   "id": "88094b04",
   "metadata": {},
   "source": [
    "# SET UP"
   ]
  },
  {
   "cell_type": "markdown",
   "id": "2cc6b0de",
   "metadata": {},
   "source": [
    "## CREATE THE ENVIRONMENT FOR THE PROJECT"
   ]
  },
  {
   "cell_type": "markdown",
   "id": "234469e4",
   "metadata": {},
   "source": [
    "### Import packages"
   ]
  },
  {
   "cell_type": "code",
   "execution_count": 6,
   "id": "18dab684",
   "metadata": {},
   "outputs": [],
   "source": [
    "import os\n",
    "import numpy as np\n",
    "import pandas as pd\n",
    "\n",
    "\n",
    "%config IpCompleter.greedy=True"
   ]
  },
  {
   "cell_type": "markdown",
   "id": "eaae5ba8",
   "metadata": {},
   "source": [
    "## CREATE THE INITIAL DATASETS"
   ]
  },
  {
   "cell_type": "markdown",
   "id": "18e327d2",
   "metadata": {},
   "source": [
    "Put the original data in the folder'/02_Data/01_Originals'"
   ]
  },
  {
   "cell_type": "markdown",
   "id": "7e6b4179",
   "metadata": {},
   "source": [
    "### Import the data"
   ]
  },
  {
   "cell_type": "markdown",
   "id": "a0aada6d",
   "metadata": {},
   "source": [
    "Replace the name_data_file."
   ]
  },
  {
   "cell_type": "code",
   "execution_count": 7,
   "id": "a991faf3",
   "metadata": {},
   "outputs": [],
   "source": [
    "data_file_name_1 = 'Rental and sale prices in Coruña.csv'\n",
    "data_file_name_2 = 'Properties for sale in Coruña.csv'"
   ]
  },
  {
   "cell_type": "markdown",
   "id": "6f69525e",
   "metadata": {},
   "source": [
    "Load the data."
   ]
  },
  {
   "cell_type": "code",
   "execution_count": 8,
   "id": "0af0f484",
   "metadata": {},
   "outputs": [],
   "source": [
    "path_1= '../../02_Data/01_Originals/' + data_file_name_1\n",
    "path_2= '../../02_Data/01_Originals/' + data_file_name_2"
   ]
  },
  {
   "cell_type": "code",
   "execution_count": 9,
   "id": "a3d803e5-7d46-4676-8ff4-bc2b6df10ec5",
   "metadata": {
    "scrolled": true
   },
   "outputs": [
    {
     "data": {
      "text/html": [
       "<div>\n",
       "<style scoped>\n",
       "    .dataframe tbody tr th:only-of-type {\n",
       "        vertical-align: middle;\n",
       "    }\n",
       "\n",
       "    .dataframe tbody tr th {\n",
       "        vertical-align: top;\n",
       "    }\n",
       "\n",
       "    .dataframe thead th {\n",
       "        text-align: right;\n",
       "    }\n",
       "</style>\n",
       "<table border=\"1\" class=\"dataframe\">\n",
       "  <thead>\n",
       "    <tr style=\"text-align: right;\">\n",
       "      <th></th>\n",
       "      <th>precio_venta_m2</th>\n",
       "      <th>precio_alquiler_m2</th>\n",
       "    </tr>\n",
       "    <tr>\n",
       "      <th>distrito</th>\n",
       "      <th></th>\n",
       "      <th></th>\n",
       "    </tr>\n",
       "  </thead>\n",
       "  <tbody>\n",
       "    <tr>\n",
       "      <th>Centro - Juan Flórez - Plaza Pontevedra</th>\n",
       "      <td>3.590 €/m²</td>\n",
       "      <td>1.254 €</td>\n",
       "    </tr>\n",
       "    <tr>\n",
       "      <th>Los Castros - Castrillón - Eiris</th>\n",
       "      <td>2.246 €/m²</td>\n",
       "      <td>11 €/m²</td>\n",
       "    </tr>\n",
       "    <tr>\n",
       "      <th>Monte Alto - Zalaeta - Atocha</th>\n",
       "      <td>3.422 €/m²</td>\n",
       "      <td>12 €/m²</td>\n",
       "    </tr>\n",
       "    <tr>\n",
       "      <th>Agra del Orzán - Ventorrillo - Vioño</th>\n",
       "      <td>2.218 €/m²</td>\n",
       "      <td>10 €/m²</td>\n",
       "    </tr>\n",
       "    <tr>\n",
       "      <th>Someso - Matogrande</th>\n",
       "      <td>2.457 €/m²</td>\n",
       "      <td>11 €/m²</td>\n",
       "    </tr>\n",
       "    <tr>\n",
       "      <th>Cuatro Caminos - Plaza de la Cubela</th>\n",
       "      <td>2.535 €/m²</td>\n",
       "      <td>13 €/m²</td>\n",
       "    </tr>\n",
       "    <tr>\n",
       "      <th>Riazor - Los Rosales</th>\n",
       "      <td>3.242 €/m²</td>\n",
       "      <td>10 €/m²</td>\n",
       "    </tr>\n",
       "    <tr>\n",
       "      <th>Os Mallos</th>\n",
       "      <td>2.304 €/m²</td>\n",
       "      <td>12 €/m²</td>\n",
       "    </tr>\n",
       "    <tr>\n",
       "      <th>Ciudad Vieja</th>\n",
       "      <td>4.521 €/m²</td>\n",
       "      <td>14 €/m²</td>\n",
       "    </tr>\n",
       "    <tr>\n",
       "      <th>Sagrada Familia</th>\n",
       "      <td>2.207 €/m²</td>\n",
       "      <td>12 €/m²</td>\n",
       "    </tr>\n",
       "    <tr>\n",
       "      <th>Elviña - A Zapateira</th>\n",
       "      <td>2.917 €/m²</td>\n",
       "      <td>12 €/m²</td>\n",
       "    </tr>\n",
       "    <tr>\n",
       "      <th>Vioño</th>\n",
       "      <td>2.917 €/m²</td>\n",
       "      <td>12 €/m²</td>\n",
       "    </tr>\n",
       "    <tr>\n",
       "      <th>Mesoiro</th>\n",
       "      <td>2.917 €/m²</td>\n",
       "      <td>12 €/m²</td>\n",
       "    </tr>\n",
       "  </tbody>\n",
       "</table>\n",
       "</div>"
      ],
      "text/plain": [
       "                                        precio_venta_m2 precio_alquiler_m2\n",
       "distrito                                                                  \n",
       "Centro - Juan Flórez - Plaza Pontevedra      3.590 €/m²            1.254 €\n",
       "Los Castros - Castrillón - Eiris             2.246 €/m²            11 €/m²\n",
       "Monte Alto - Zalaeta - Atocha                3.422 €/m²            12 €/m²\n",
       "Agra del Orzán - Ventorrillo - Vioño         2.218 €/m²            10 €/m²\n",
       "Someso - Matogrande                          2.457 €/m²            11 €/m²\n",
       "Cuatro Caminos - Plaza de la Cubela          2.535 €/m²            13 €/m²\n",
       "Riazor - Los Rosales                         3.242 €/m²            10 €/m²\n",
       "Os Mallos                                    2.304 €/m²            12 €/m²\n",
       "Ciudad Vieja                                 4.521 €/m²            14 €/m²\n",
       "Sagrada Familia                              2.207 €/m²            12 €/m²\n",
       "Elviña - A Zapateira                         2.917 €/m²            12 €/m²\n",
       "Vioño                                        2.917 €/m²            12 €/m²\n",
       "Mesoiro                                      2.917 €/m²            12 €/m²"
      ]
     },
     "execution_count": 9,
     "metadata": {},
     "output_type": "execute_result"
    }
   ],
   "source": [
    "data_1 = pd.read_csv(path_1,index_col=0)\n",
    "data_1"
   ]
  },
  {
   "cell_type": "code",
   "execution_count": 10,
   "id": "f142b71f-9939-4af6-ae9f-4f78035e7fc0",
   "metadata": {},
   "outputs": [
    {
     "data": {
      "text/html": [
       "<div>\n",
       "<style scoped>\n",
       "    .dataframe tbody tr th:only-of-type {\n",
       "        vertical-align: middle;\n",
       "    }\n",
       "\n",
       "    .dataframe tbody tr th {\n",
       "        vertical-align: top;\n",
       "    }\n",
       "\n",
       "    .dataframe thead th {\n",
       "        text-align: right;\n",
       "    }\n",
       "</style>\n",
       "<table border=\"1\" class=\"dataframe\">\n",
       "  <thead>\n",
       "    <tr style=\"text-align: right;\">\n",
       "      <th></th>\n",
       "      <th>itemlink</th>\n",
       "      <th>Precio</th>\n",
       "      <th>itemparking</th>\n",
       "      <th>itemdetail</th>\n",
       "      <th>itemdetail2</th>\n",
       "    </tr>\n",
       "    <tr>\n",
       "      <th>itemlink_URL</th>\n",
       "      <th></th>\n",
       "      <th></th>\n",
       "      <th></th>\n",
       "      <th></th>\n",
       "      <th></th>\n",
       "    </tr>\n",
       "  </thead>\n",
       "  <tbody>\n",
       "    <tr>\n",
       "      <th>https://www.idealista.com/inmueble/106370978/</th>\n",
       "      <td>\\nPiso en avenida Hércules, Monte Alto - Zalae...</td>\n",
       "      <td>285.000€</td>\n",
       "      <td>NaN</td>\n",
       "      <td>2 hab.</td>\n",
       "      <td>100 m²</td>\n",
       "    </tr>\n",
       "    <tr>\n",
       "      <th>https://www.idealista.com/inmueble/97221042/</th>\n",
       "      <td>\\nDúplex en calle José Pascual López-Cortón, S...</td>\n",
       "      <td>480.000€</td>\n",
       "      <td>Garaje incluido</td>\n",
       "      <td>4 hab.</td>\n",
       "      <td>200 m²</td>\n",
       "    </tr>\n",
       "    <tr>\n",
       "      <th>https://www.idealista.com/inmueble/105277913/</th>\n",
       "      <td>\\nPiso en calle Ramón de la Sagra, Ensanche, a...</td>\n",
       "      <td>460.000€</td>\n",
       "      <td>Garaje opc. 30.000 €</td>\n",
       "      <td>3 hab.</td>\n",
       "      <td>124 m²</td>\n",
       "    </tr>\n",
       "    <tr>\n",
       "      <th>https://www.idealista.com/inmueble/105967967/</th>\n",
       "      <td>\\nPiso en calle Menéndez y Pelayo, Ensanche, a...</td>\n",
       "      <td>550.000€</td>\n",
       "      <td>Garaje incluido</td>\n",
       "      <td>5 hab.</td>\n",
       "      <td>160 m²</td>\n",
       "    </tr>\n",
       "    <tr>\n",
       "      <th>https://www.idealista.com/inmueble/105859017/</th>\n",
       "      <td>\\nPiso en calle Ría do Burgo, Someso - Matogra...</td>\n",
       "      <td>170.000€</td>\n",
       "      <td>NaN</td>\n",
       "      <td>3 hab.</td>\n",
       "      <td>85 m²</td>\n",
       "    </tr>\n",
       "    <tr>\n",
       "      <th>...</th>\n",
       "      <td>...</td>\n",
       "      <td>...</td>\n",
       "      <td>...</td>\n",
       "      <td>...</td>\n",
       "      <td>...</td>\n",
       "    </tr>\n",
       "    <tr>\n",
       "      <th>https://www.idealista.com/inmueble/101388147/</th>\n",
       "      <td>\\nPiso en avenida Navarra, 5, Monte Alto - Zal...</td>\n",
       "      <td>160.000€</td>\n",
       "      <td>NaN</td>\n",
       "      <td>4 hab.</td>\n",
       "      <td>80 m²</td>\n",
       "    </tr>\n",
       "    <tr>\n",
       "      <th>https://www.idealista.com/inmueble/36223126/</th>\n",
       "      <td>\\nPiso en avenida de Pedralonga, 57, Eirís, a ...</td>\n",
       "      <td>179.000€</td>\n",
       "      <td>Garaje incluido</td>\n",
       "      <td>2 hab.</td>\n",
       "      <td>70 m²</td>\n",
       "    </tr>\n",
       "    <tr>\n",
       "      <th>https://www.idealista.com/inmueble/95139267/</th>\n",
       "      <td>\\nPiso en calle Médico Devesa Nuñez, 19, Somes...</td>\n",
       "      <td>135.000€</td>\n",
       "      <td>NaN</td>\n",
       "      <td>3 hab.</td>\n",
       "      <td>64 m²</td>\n",
       "    </tr>\n",
       "    <tr>\n",
       "      <th>https://www.idealista.com/inmueble/104145671/</th>\n",
       "      <td>\\nChalet adosado en calle Ultramar, 8, Riazor ...</td>\n",
       "      <td>210.000€</td>\n",
       "      <td>NaN</td>\n",
       "      <td>2 hab.</td>\n",
       "      <td>60 m²</td>\n",
       "    </tr>\n",
       "    <tr>\n",
       "      <th>https://www.idealista.com/inmueble/103576765/</th>\n",
       "      <td>\\nCasa o chalet independiente en Poboado o Por...</td>\n",
       "      <td>500.000€</td>\n",
       "      <td>NaN</td>\n",
       "      <td>5 hab.</td>\n",
       "      <td>400 m²</td>\n",
       "    </tr>\n",
       "  </tbody>\n",
       "</table>\n",
       "<p>1127 rows × 5 columns</p>\n",
       "</div>"
      ],
      "text/plain": [
       "                                                                                        itemlink  \\\n",
       "itemlink_URL                                                                                       \n",
       "https://www.idealista.com/inmueble/106370978/  \\nPiso en avenida Hércules, Monte Alto - Zalae...   \n",
       "https://www.idealista.com/inmueble/97221042/   \\nDúplex en calle José Pascual López-Cortón, S...   \n",
       "https://www.idealista.com/inmueble/105277913/  \\nPiso en calle Ramón de la Sagra, Ensanche, a...   \n",
       "https://www.idealista.com/inmueble/105967967/  \\nPiso en calle Menéndez y Pelayo, Ensanche, a...   \n",
       "https://www.idealista.com/inmueble/105859017/  \\nPiso en calle Ría do Burgo, Someso - Matogra...   \n",
       "...                                                                                          ...   \n",
       "https://www.idealista.com/inmueble/101388147/  \\nPiso en avenida Navarra, 5, Monte Alto - Zal...   \n",
       "https://www.idealista.com/inmueble/36223126/   \\nPiso en avenida de Pedralonga, 57, Eirís, a ...   \n",
       "https://www.idealista.com/inmueble/95139267/   \\nPiso en calle Médico Devesa Nuñez, 19, Somes...   \n",
       "https://www.idealista.com/inmueble/104145671/  \\nChalet adosado en calle Ultramar, 8, Riazor ...   \n",
       "https://www.idealista.com/inmueble/103576765/  \\nCasa o chalet independiente en Poboado o Por...   \n",
       "\n",
       "                                                 Precio           itemparking  \\\n",
       "itemlink_URL                                                                    \n",
       "https://www.idealista.com/inmueble/106370978/  285.000€                   NaN   \n",
       "https://www.idealista.com/inmueble/97221042/   480.000€       Garaje incluido   \n",
       "https://www.idealista.com/inmueble/105277913/  460.000€  Garaje opc. 30.000 €   \n",
       "https://www.idealista.com/inmueble/105967967/  550.000€       Garaje incluido   \n",
       "https://www.idealista.com/inmueble/105859017/  170.000€                   NaN   \n",
       "...                                                 ...                   ...   \n",
       "https://www.idealista.com/inmueble/101388147/  160.000€                   NaN   \n",
       "https://www.idealista.com/inmueble/36223126/   179.000€       Garaje incluido   \n",
       "https://www.idealista.com/inmueble/95139267/   135.000€                   NaN   \n",
       "https://www.idealista.com/inmueble/104145671/  210.000€                   NaN   \n",
       "https://www.idealista.com/inmueble/103576765/  500.000€                   NaN   \n",
       "\n",
       "                                              itemdetail itemdetail2  \n",
       "itemlink_URL                                                          \n",
       "https://www.idealista.com/inmueble/106370978/     2 hab.      100 m²  \n",
       "https://www.idealista.com/inmueble/97221042/      4 hab.      200 m²  \n",
       "https://www.idealista.com/inmueble/105277913/     3 hab.      124 m²  \n",
       "https://www.idealista.com/inmueble/105967967/     5 hab.      160 m²  \n",
       "https://www.idealista.com/inmueble/105859017/     3 hab.       85 m²  \n",
       "...                                                  ...         ...  \n",
       "https://www.idealista.com/inmueble/101388147/     4 hab.       80 m²  \n",
       "https://www.idealista.com/inmueble/36223126/      2 hab.       70 m²  \n",
       "https://www.idealista.com/inmueble/95139267/      3 hab.       64 m²  \n",
       "https://www.idealista.com/inmueble/104145671/     2 hab.       60 m²  \n",
       "https://www.idealista.com/inmueble/103576765/     5 hab.      400 m²  \n",
       "\n",
       "[1127 rows x 5 columns]"
      ]
     },
     "execution_count": 10,
     "metadata": {},
     "output_type": "execute_result"
    }
   ],
   "source": [
    "data_2 = pd.read_csv(path_2,index_col=0)\n",
    "data_2"
   ]
  },
  {
   "cell_type": "markdown",
   "id": "2ece8ca5",
   "metadata": {},
   "source": [
    "### Extract and save in work format"
   ]
  },
  {
   "cell_type": "code",
   "execution_count": 11,
   "id": "26e6e0c9",
   "metadata": {},
   "outputs": [],
   "source": [
    "data_file_name_1 = name_data_file_1[0:-4] + '.pickle'\n",
    "data_file_name_2 = name_data_file_2[0:-4] + '.pickle'"
   ]
  },
  {
   "cell_type": "code",
   "execution_count": 12,
   "id": "afe4ce43-1a75-49d5-a7cb-c95ab62c5aa6",
   "metadata": {},
   "outputs": [],
   "source": [
    "path_1= '../../02_Data/02_Work/' + data_file_name_1\n",
    "path_2 = '../../02_Data/02_Work/' + data_file_name_2\n",
    "\n",
    "data_1.to_pickle(path_1)\n",
    "data_2.to_pickle(path_2)"
   ]
  }
 ],
 "metadata": {
  "kernelspec": {
   "display_name": "Python 3 (ipykernel)",
   "language": "python",
   "name": "python3"
  },
  "language_info": {
   "codemirror_mode": {
    "name": "ipython",
    "version": 3
   },
   "file_extension": ".py",
   "mimetype": "text/x-python",
   "name": "python",
   "nbconvert_exporter": "python",
   "pygments_lexer": "ipython3",
   "version": "3.12.3"
  },
  "toc": {
   "base_numbering": 1,
   "nav_menu": {},
   "number_sections": true,
   "sideBar": true,
   "skip_h1_title": false,
   "title_cell": "Table of Contents",
   "title_sidebar": "Contents",
   "toc_cell": false,
   "toc_position": {
    "height": "calc(100% - 180px)",
    "left": "10px",
    "top": "150px",
    "width": "208.9px"
   },
   "toc_section_display": true,
   "toc_window_display": true
  },
  "varInspector": {
   "cols": {
    "lenName": 16,
    "lenType": 16,
    "lenVar": 40
   },
   "kernels_config": {
    "python": {
     "delete_cmd_postfix": "",
     "delete_cmd_prefix": "del ",
     "library": "var_list.py",
     "varRefreshCmd": "print(var_dic_list())"
    },
    "r": {
     "delete_cmd_postfix": ") ",
     "delete_cmd_prefix": "rm(",
     "library": "var_list.r",
     "varRefreshCmd": "cat(var_dic_list()) "
    }
   },
   "types_to_exclude": [
    "module",
    "function",
    "builtin_function_or_method",
    "instance",
    "_Feature"
   ],
   "window_display": false
  }
 },
 "nbformat": 4,
 "nbformat_minor": 5
}
